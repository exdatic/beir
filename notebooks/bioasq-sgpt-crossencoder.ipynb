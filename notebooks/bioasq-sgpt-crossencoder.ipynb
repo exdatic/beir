{
 "cells": [
  {
   "cell_type": "code",
   "execution_count": 5,
   "id": "6ff817b0",
   "metadata": {},
   "outputs": [],
   "source": [
    "#!conda install -y -c conda-forge elasticsearch=7.17.0"
   ]
  },
  {
   "cell_type": "code",
   "execution_count": 1,
   "id": "25af04e4",
   "metadata": {},
   "outputs": [],
   "source": [
    "#!conda install -y -c conda-forge accelerate sacremoses transformers"
   ]
  },
  {
   "cell_type": "code",
   "execution_count": 1,
   "id": "36aff321",
   "metadata": {},
   "outputs": [],
   "source": [
    "import os\n",
    "data_dir = os.path.expanduser(\"~/Google Drive/Shared drives/Data\")\n",
    "dataset = \"bioasq\"\n",
    "data_path = f'{data_dir}/BEIR/{dataset}'"
   ]
  },
  {
   "cell_type": "code",
   "execution_count": 2,
   "id": "7751b49b",
   "metadata": {},
   "outputs": [],
   "source": [
    "prompt = 'Documents are searched to find matches with the same content.\\nThe document \"{}\" is a good search result for \"'\n"
   ]
  },
  {
   "cell_type": "code",
   "execution_count": 33,
   "id": "954679c6",
   "metadata": {},
   "outputs": [
    {
     "data": {
      "application/vnd.jupyter.widget-view+json": {
       "model_id": "",
       "version_major": 2,
       "version_minor": 0
      },
      "text/plain": [
       "  0%|          | 0/1 [00:00<?, ?it/s]"
      ]
     },
     "metadata": {},
     "output_type": "display_data"
    }
   ],
   "source": [
    "from vectorspace.utils import json_load\n",
    "from beir.datasets.data_loader import GenericDataLoader\n",
    "_, queries, qrels = GenericDataLoader(data_path).load(split=\"test\")\n",
    "bm25_results = json_load(f\"{data_dir}/BEIR/results_{dataset}_bm25.json\")"
   ]
  },
  {
   "cell_type": "code",
   "execution_count": 34,
   "id": "5249f318",
   "metadata": {},
   "outputs": [],
   "source": [
    "# Only use first 100\n",
    "n = 100\n",
    "query_keys = list(queries.keys())\n",
    "queries_ = {k: v for k, v in queries.items() if k in query_keys[:n]}\n",
    "qrels_ = {k: v for k, v in qrels.items() if k in query_keys[:n]}\n",
    "results = {k: v for k, v in bm25_results.items() if k in query_keys[:n]}"
   ]
  },
  {
   "cell_type": "code",
   "execution_count": 35,
   "id": "011acce3",
   "metadata": {},
   "outputs": [],
   "source": [
    "from vectorspace.store import Store as ESDict\n",
    "from elasticsearch import Elasticsearch\n",
    "corpus = ESDict(Elasticsearch(['http://localhost:9200']), dataset)"
   ]
  },
  {
   "cell_type": "code",
   "execution_count": 6,
   "id": "a0b9d6f3",
   "metadata": {},
   "outputs": [],
   "source": [
    "#top_k = 100\n",
    "#sentence_pairs, pair_ids = [], []\n",
    "#for query_id in results:\n",
    "#    for (doc_id, _) in sorted(results[query_id].items(), key=lambda item: item[1], reverse=True)[:top_k]:\n",
    "#        pair_ids.append([query_id, doc_id])\n",
    "#        corpus_text = (corpus[doc_id].get(\"title\", \"\") + \" \" + corpus[doc_id].get(\"text\", \"\")).strip()\n",
    "#        sentence_pairs.append([queries_[query_id], corpus_text])"
   ]
  },
  {
   "cell_type": "code",
   "execution_count": 7,
   "id": "840178aa",
   "metadata": {},
   "outputs": [],
   "source": [
    "#from vectorspace.utils import jsonl_dump\n",
    "#jsonl_dump([{'query_id': p[0], 'doc_id': p[1]} for p in pair_ids], f'{data_path}/pair_ids_100.jsonl')\n",
    "#jsonl_dump([{'query': p[0], 'text': p[1]} for p in sentence_pairs], f'{data_path}/sentence_pairs_100.jsonl')"
   ]
  },
  {
   "cell_type": "code",
   "execution_count": 8,
   "id": "6f9f9b5a",
   "metadata": {},
   "outputs": [],
   "source": [
    "from vectorspace.utils import jsonl_load\n",
    "sentence_pairs = [[p['query'], p['text']] for p in jsonl_load(f'{data_path}/sentence_pairs_100.jsonl')]\n",
    "pair_ids = [[p['query_id'], p['doc_id']] for p in jsonl_load(f'{data_path}/pair_ids_100.jsonl')]"
   ]
  },
  {
   "cell_type": "markdown",
   "id": "f1d833a0",
   "metadata": {},
   "source": [
    "## GPT"
   ]
  },
  {
   "cell_type": "code",
   "execution_count": 60,
   "id": "58437fba",
   "metadata": {
    "scrolled": true
   },
   "outputs": [],
   "source": [
    "import torch\n",
    "from transformers import AutoModelForCausalLM, AutoTokenizer\n",
    "from scipy.spatial.distance import cosine\n",
    "\n",
    "# Get models - The package will take care of downloading the models automatically\n",
    "# For best performance: EleutherAI/gpt-j-6B\n",
    "tokenizer = AutoTokenizer.from_pretrained(\"EleutherAI/gpt-neo-125M\")\n",
    "device = 'mps'\n",
    "model = AutoModelForCausalLM.from_pretrained(\"EleutherAI/gpt-neo-125M\").to(device).eval()"
   ]
  },
  {
   "cell_type": "code",
   "execution_count": 52,
   "id": "2dee4d75",
   "metadata": {},
   "outputs": [],
   "source": [
    "from tqdm import tqdm\n",
    "\n",
    "def compute_gpt_scores(tokenizer, model, sentence_pairs, model_name='gpt'):\n",
    "    scores = []\n",
    "    prompt = '''Documents are searched to find matches with the same content.\\n\n",
    "    The document \"{}\" is a good search result for \"'''\n",
    "    for query, doc in tqdm(sentence_pairs, total=len(sentence_pairs)):\n",
    "        context = prompt.format(doc)\n",
    "        context_enc = tokenizer.encode(context, add_special_tokens=False)\n",
    "        continuation_enc = tokenizer.encode(query, add_special_tokens=False)\n",
    "        # Slice off the last token, as we take its probability from the one before\n",
    "        model_input = torch.tensor(context_enc+continuation_enc[:-1]).to(device)\n",
    "        continuation_len = len(continuation_enc)\n",
    "        # [seq_len] -> [seq_len, vocab]\n",
    "        # probability of each word of following the previous words\n",
    "        if model_name=='gpt':\n",
    "            output = model(model_input)[0]\n",
    "        else:\n",
    "            output = model(model_input.unsqueeze(dim=0))[0][0]\n",
    "        logprobs = torch.nn.functional.log_softmax(output, dim=-1).cpu()\n",
    "        # vocab indices of continuation tokens\n",
    "        continuation_index = torch.tensor(continuation_enc).unsqueeze(-1)\n",
    "        # Gather the log probabilities of the continuation tokens -> [continuation_len]\n",
    "        logprobs_continuation = torch.gather(logprobs[-continuation_len:], 1, continuation_index).squeeze(-1)\n",
    "        # The query probability\n",
    "        score = torch.sum(logprobs_continuation)\n",
    "        scores.append(float(score.detach()))\n",
    "    return scores"
   ]
  },
  {
   "cell_type": "code",
   "execution_count": 32,
   "id": "289f454f",
   "metadata": {},
   "outputs": [
    {
     "name": "stderr",
     "output_type": "stream",
     "text": [
      "100%|█████████████████████████████████████████████████████████████████████████████████████████████████████| 10000/10000 [3:57:40<00:00,  1.43s/it]\n"
     ]
    }
   ],
   "source": [
    "scores = compute_gpt_scores(tokenizer, model, sentence_pairs)"
   ]
  },
  {
   "cell_type": "code",
   "execution_count": 39,
   "id": "cd63f6de",
   "metadata": {},
   "outputs": [],
   "source": [
    "results_rerank = {query_id: {} for query_id in results}\n",
    "for pair, score in zip(pair_ids, scores):\n",
    "    query_id, doc_id = pair[0], pair[1]\n",
    "    results_rerank[query_id][doc_id] = score"
   ]
  },
  {
   "cell_type": "code",
   "execution_count": 42,
   "id": "7282d4fb",
   "metadata": {},
   "outputs": [],
   "source": [
    "import json\n",
    "from beir.retrieval.evaluation import EvaluateRetrieval\n",
    "# Save rerank results\n",
    "with open(f'{data_dir}/BEIR/results_bioasq_bm25_sgpt_100.json', 'w') as fp:\n",
    "    json.dump(results_rerank, fp)\n",
    "\n",
    "ndcg, _map, recall, precision = EvaluateRetrieval.evaluate(qrels, results_rerank, k_values=[1, 3, 5, 10, 100])"
   ]
  },
  {
   "cell_type": "code",
   "execution_count": 43,
   "id": "18c31b9b",
   "metadata": {},
   "outputs": [
    {
     "data": {
      "text/plain": [
       "{'NDCG@1': 0.49,\n",
       " 'NDCG@3': 0.49791,\n",
       " 'NDCG@5': 0.49257,\n",
       " 'NDCG@10': 0.49016,\n",
       " 'NDCG@100': 0.55045}"
      ]
     },
     "execution_count": 43,
     "metadata": {},
     "output_type": "execute_result"
    }
   ],
   "source": [
    "ndcg"
   ]
  },
  {
   "cell_type": "code",
   "execution_count": 71,
   "id": "85f25a69",
   "metadata": {},
   "outputs": [
    {
     "data": {
      "text/plain": [
       "{'Recall@1': 0.25412,\n",
       " 'Recall@3': 0.39397,\n",
       " 'Recall@5': 0.4514,\n",
       " 'Recall@10': 0.49981,\n",
       " 'Recall@100': 0.70038}"
      ]
     },
     "execution_count": 71,
     "metadata": {},
     "output_type": "execute_result"
    }
   ],
   "source": [
    "recall"
   ]
  },
  {
   "cell_type": "code",
   "execution_count": 72,
   "id": "7f747305",
   "metadata": {},
   "outputs": [
    {
     "data": {
      "text/plain": [
       "{'MAP@1': 0.25412,\n",
       " 'MAP@3': 0.34575,\n",
       " 'MAP@5': 0.37491,\n",
       " 'MAP@10': 0.39969,\n",
       " 'MAP@100': 0.43331}"
      ]
     },
     "execution_count": 72,
     "metadata": {},
     "output_type": "execute_result"
    }
   ],
   "source": [
    "_map"
   ]
  },
  {
   "cell_type": "markdown",
   "id": "12e073b7",
   "metadata": {},
   "source": [
    "## BioGPT"
   ]
  },
  {
   "cell_type": "code",
   "execution_count": 45,
   "id": "00a6fcd4",
   "metadata": {},
   "outputs": [],
   "source": [
    "from transformers import BioGptTokenizer, BioGptForCausalLM\n",
    "cache_dir = f\"{data_dir}/huggingface/\"\n",
    "model_name = \"microsoft/biogpt\"\n",
    "device = 'mps'\n",
    "model = BioGptForCausalLM.from_pretrained(model_name, cache_dir=cache_dir, low_cpu_mem_usage=True).to(device).eval()\n",
    "tokenizer = BioGptTokenizer.from_pretrained(model_name, cache_dir=cache_dir)"
   ]
  },
  {
   "cell_type": "code",
   "execution_count": 53,
   "id": "d32a8eaa",
   "metadata": {
    "scrolled": true
   },
   "outputs": [
    {
     "name": "stderr",
     "output_type": "stream",
     "text": [
      "  0%|                                                                                                        | 7/10000 [00:54<21:45:58,  7.84s/it]\n"
     ]
    },
    {
     "data": {
      "text/html": [
       "<pre style=\"white-space:pre;overflow-x:auto;line-height:normal;font-family:Menlo,'DejaVu Sans Mono',consolas,'Courier New',monospace\"><span style=\"color: #800000; text-decoration-color: #800000\">╭─────────────────────────────── </span><span style=\"color: #800000; text-decoration-color: #800000; font-weight: bold\">Traceback </span><span style=\"color: #bf7f7f; text-decoration-color: #bf7f7f; font-weight: bold\">(most recent call last)</span><span style=\"color: #800000; text-decoration-color: #800000\"> ────────────────────────────────╮</span>\n",
       "<span style=\"color: #800000; text-decoration-color: #800000\">│</span> <span style=\"color: #bfbf7f; text-decoration-color: #bfbf7f\">/var/folders/sc/18nvh9y94q9fy8hzdrzkl8lh0000gn/T/ipykernel_15698/</span><span style=\"color: #808000; text-decoration-color: #808000; font-weight: bold\">4021019181.py</span>:<span style=\"color: #0000ff; text-decoration-color: #0000ff\">1</span> in <span style=\"color: #00ff00; text-decoration-color: #00ff00\">&lt;module&gt;</span>     <span style=\"color: #800000; text-decoration-color: #800000\">│</span>\n",
       "<span style=\"color: #800000; text-decoration-color: #800000\">│</span>                                                                                                  <span style=\"color: #800000; text-decoration-color: #800000\">│</span>\n",
       "<span style=\"color: #800000; text-decoration-color: #800000\">│</span> <span style=\"color: #800000; text-decoration-color: #800000; font-style: italic\">[Errno 2] No such file or directory: </span>                                                            <span style=\"color: #800000; text-decoration-color: #800000\">│</span>\n",
       "<span style=\"color: #800000; text-decoration-color: #800000\">│</span> <span style=\"color: #800000; text-decoration-color: #800000; font-style: italic\">'/var/folders/sc/18nvh9y94q9fy8hzdrzkl8lh0000gn/T/ipykernel_15698/4021019181.py'</span>                 <span style=\"color: #800000; text-decoration-color: #800000\">│</span>\n",
       "<span style=\"color: #800000; text-decoration-color: #800000\">│</span>                                                                                                  <span style=\"color: #800000; text-decoration-color: #800000\">│</span>\n",
       "<span style=\"color: #800000; text-decoration-color: #800000\">│</span> <span style=\"color: #bfbf7f; text-decoration-color: #bfbf7f\">/var/folders/sc/18nvh9y94q9fy8hzdrzkl8lh0000gn/T/ipykernel_15698/</span><span style=\"color: #808000; text-decoration-color: #808000; font-weight: bold\">3226109416.py</span>:<span style=\"color: #0000ff; text-decoration-color: #0000ff\">19</span> in             <span style=\"color: #800000; text-decoration-color: #800000\">│</span>\n",
       "<span style=\"color: #800000; text-decoration-color: #800000\">│</span> <span style=\"color: #00ff00; text-decoration-color: #00ff00\">compute_gpt_scores</span>                                                                               <span style=\"color: #800000; text-decoration-color: #800000\">│</span>\n",
       "<span style=\"color: #800000; text-decoration-color: #800000\">│</span>                                                                                                  <span style=\"color: #800000; text-decoration-color: #800000\">│</span>\n",
       "<span style=\"color: #800000; text-decoration-color: #800000\">│</span> <span style=\"color: #800000; text-decoration-color: #800000; font-style: italic\">[Errno 2] No such file or directory: </span>                                                            <span style=\"color: #800000; text-decoration-color: #800000\">│</span>\n",
       "<span style=\"color: #800000; text-decoration-color: #800000\">│</span> <span style=\"color: #800000; text-decoration-color: #800000; font-style: italic\">'/var/folders/sc/18nvh9y94q9fy8hzdrzkl8lh0000gn/T/ipykernel_15698/3226109416.py'</span>                 <span style=\"color: #800000; text-decoration-color: #800000\">│</span>\n",
       "<span style=\"color: #800000; text-decoration-color: #800000\">│</span>                                                                                                  <span style=\"color: #800000; text-decoration-color: #800000\">│</span>\n",
       "<span style=\"color: #800000; text-decoration-color: #800000\">│</span> <span style=\"color: #bfbf7f; text-decoration-color: #bfbf7f\">/opt/homebrew/anaconda3/lib/python3.9/site-packages/torch/nn/modules/</span><span style=\"color: #808000; text-decoration-color: #808000; font-weight: bold\">module.py</span>:<span style=\"color: #0000ff; text-decoration-color: #0000ff\">1482</span> in           <span style=\"color: #800000; text-decoration-color: #800000\">│</span>\n",
       "<span style=\"color: #800000; text-decoration-color: #800000\">│</span> <span style=\"color: #00ff00; text-decoration-color: #00ff00\">_call_impl</span>                                                                                       <span style=\"color: #800000; text-decoration-color: #800000\">│</span>\n",
       "<span style=\"color: #800000; text-decoration-color: #800000\">│</span>                                                                                                  <span style=\"color: #800000; text-decoration-color: #800000\">│</span>\n",
       "<span style=\"color: #800000; text-decoration-color: #800000\">│</span>   <span style=\"color: #7f7f7f; text-decoration-color: #7f7f7f\">1479 │   │   </span><span style=\"color: #0000ff; text-decoration-color: #0000ff\">if</span> <span style=\"color: #ff00ff; text-decoration-color: #ff00ff\">not</span> (<span style=\"color: #00ffff; text-decoration-color: #00ffff\">self</span>._backward_hooks <span style=\"color: #ff00ff; text-decoration-color: #ff00ff\">or</span> <span style=\"color: #00ffff; text-decoration-color: #00ffff\">self</span>._backward_pre_hooks <span style=\"color: #ff00ff; text-decoration-color: #ff00ff\">or</span> <span style=\"color: #00ffff; text-decoration-color: #00ffff\">self</span>._forward_hooks   <span style=\"color: #800000; text-decoration-color: #800000\">│</span>\n",
       "<span style=\"color: #800000; text-decoration-color: #800000\">│</span>   <span style=\"color: #7f7f7f; text-decoration-color: #7f7f7f\">1480 │   │   │   │   </span><span style=\"color: #ff00ff; text-decoration-color: #ff00ff\">or</span> _global_backward_pre_hooks <span style=\"color: #ff00ff; text-decoration-color: #ff00ff\">or</span> _global_backward_hooks                   <span style=\"color: #800000; text-decoration-color: #800000\">│</span>\n",
       "<span style=\"color: #800000; text-decoration-color: #800000\">│</span>   <span style=\"color: #7f7f7f; text-decoration-color: #7f7f7f\">1481 │   │   │   │   </span><span style=\"color: #ff00ff; text-decoration-color: #ff00ff\">or</span> _global_forward_hooks <span style=\"color: #ff00ff; text-decoration-color: #ff00ff\">or</span> _global_forward_pre_hooks):                   <span style=\"color: #800000; text-decoration-color: #800000\">│</span>\n",
       "<span style=\"color: #800000; text-decoration-color: #800000\">│</span> <span style=\"color: #800000; text-decoration-color: #800000\">❱ </span>1482 <span style=\"color: #7f7f7f; text-decoration-color: #7f7f7f\">│   │   │   </span><span style=\"color: #0000ff; text-decoration-color: #0000ff\">return</span> forward_call(*args, **kwargs)                                          <span style=\"color: #800000; text-decoration-color: #800000\">│</span>\n",
       "<span style=\"color: #800000; text-decoration-color: #800000\">│</span>   <span style=\"color: #7f7f7f; text-decoration-color: #7f7f7f\">1483 │   │   # Do not call functions when jit is used</span>                                          <span style=\"color: #800000; text-decoration-color: #800000\">│</span>\n",
       "<span style=\"color: #800000; text-decoration-color: #800000\">│</span>   <span style=\"color: #7f7f7f; text-decoration-color: #7f7f7f\">1484 │   │   </span>full_backward_hooks, non_full_backward_hooks = [], []                             <span style=\"color: #800000; text-decoration-color: #800000\">│</span>\n",
       "<span style=\"color: #800000; text-decoration-color: #800000\">│</span>   <span style=\"color: #7f7f7f; text-decoration-color: #7f7f7f\">1485 │   │   </span>backward_pre_hooks = []                                                           <span style=\"color: #800000; text-decoration-color: #800000\">│</span>\n",
       "<span style=\"color: #800000; text-decoration-color: #800000\">│</span>                                                                                                  <span style=\"color: #800000; text-decoration-color: #800000\">│</span>\n",
       "<span style=\"color: #800000; text-decoration-color: #800000\">│</span> <span style=\"color: #bfbf7f; text-decoration-color: #bfbf7f\">/opt/homebrew/anaconda3/lib/python3.9/site-packages/transformers/models/biogpt/</span><span style=\"color: #808000; text-decoration-color: #808000; font-weight: bold\">modeling_biogpt.p</span> <span style=\"color: #800000; text-decoration-color: #800000\">│</span>\n",
       "<span style=\"color: #800000; text-decoration-color: #800000\">│</span> <span style=\"color: #808000; text-decoration-color: #808000; font-weight: bold\">y</span>:<span style=\"color: #0000ff; text-decoration-color: #0000ff\">673</span> in <span style=\"color: #00ff00; text-decoration-color: #00ff00\">forward</span>                                                                                 <span style=\"color: #800000; text-decoration-color: #800000\">│</span>\n",
       "<span style=\"color: #800000; text-decoration-color: #800000\">│</span>                                                                                                  <span style=\"color: #800000; text-decoration-color: #800000\">│</span>\n",
       "<span style=\"color: #800000; text-decoration-color: #800000\">│</span>   <span style=\"color: #7f7f7f; text-decoration-color: #7f7f7f\">670 </span><span style=\"color: #bfbf7f; text-decoration-color: #bfbf7f\">│   │   </span><span style=\"color: #808000; text-decoration-color: #808000\">\"\"\"</span>                                                                                <span style=\"color: #800000; text-decoration-color: #800000\">│</span>\n",
       "<span style=\"color: #800000; text-decoration-color: #800000\">│</span>   <span style=\"color: #7f7f7f; text-decoration-color: #7f7f7f\">671 │   │   </span>return_dict = return_dict <span style=\"color: #0000ff; text-decoration-color: #0000ff\">if</span> return_dict <span style=\"color: #ff00ff; text-decoration-color: #ff00ff\">is</span> <span style=\"color: #ff00ff; text-decoration-color: #ff00ff\">not</span> <span style=\"color: #0000ff; text-decoration-color: #0000ff\">None</span> <span style=\"color: #0000ff; text-decoration-color: #0000ff\">else</span> <span style=\"color: #00ffff; text-decoration-color: #00ffff\">self</span>.config.use_return   <span style=\"color: #800000; text-decoration-color: #800000\">│</span>\n",
       "<span style=\"color: #800000; text-decoration-color: #800000\">│</span>   <span style=\"color: #7f7f7f; text-decoration-color: #7f7f7f\">672 │   │   </span>                                                                                   <span style=\"color: #800000; text-decoration-color: #800000\">│</span>\n",
       "<span style=\"color: #800000; text-decoration-color: #800000\">│</span> <span style=\"color: #800000; text-decoration-color: #800000\">❱ </span>673 <span style=\"color: #7f7f7f; text-decoration-color: #7f7f7f\">│   │   </span>outputs = <span style=\"color: #00ffff; text-decoration-color: #00ffff\">self</span>.biogpt(                                                             <span style=\"color: #800000; text-decoration-color: #800000\">│</span>\n",
       "<span style=\"color: #800000; text-decoration-color: #800000\">│</span>   <span style=\"color: #7f7f7f; text-decoration-color: #7f7f7f\">674 │   │   │   </span>input_ids,                                                                     <span style=\"color: #800000; text-decoration-color: #800000\">│</span>\n",
       "<span style=\"color: #800000; text-decoration-color: #800000\">│</span>   <span style=\"color: #7f7f7f; text-decoration-color: #7f7f7f\">675 │   │   │   </span>attention_mask=attention_mask,                                                 <span style=\"color: #800000; text-decoration-color: #800000\">│</span>\n",
       "<span style=\"color: #800000; text-decoration-color: #800000\">│</span>   <span style=\"color: #7f7f7f; text-decoration-color: #7f7f7f\">676 │   │   │   </span>head_mask=head_mask,                                                           <span style=\"color: #800000; text-decoration-color: #800000\">│</span>\n",
       "<span style=\"color: #800000; text-decoration-color: #800000\">│</span>                                                                                                  <span style=\"color: #800000; text-decoration-color: #800000\">│</span>\n",
       "<span style=\"color: #800000; text-decoration-color: #800000\">│</span> <span style=\"color: #bfbf7f; text-decoration-color: #bfbf7f\">/opt/homebrew/anaconda3/lib/python3.9/site-packages/torch/nn/modules/</span><span style=\"color: #808000; text-decoration-color: #808000; font-weight: bold\">module.py</span>:<span style=\"color: #0000ff; text-decoration-color: #0000ff\">1482</span> in           <span style=\"color: #800000; text-decoration-color: #800000\">│</span>\n",
       "<span style=\"color: #800000; text-decoration-color: #800000\">│</span> <span style=\"color: #00ff00; text-decoration-color: #00ff00\">_call_impl</span>                                                                                       <span style=\"color: #800000; text-decoration-color: #800000\">│</span>\n",
       "<span style=\"color: #800000; text-decoration-color: #800000\">│</span>                                                                                                  <span style=\"color: #800000; text-decoration-color: #800000\">│</span>\n",
       "<span style=\"color: #800000; text-decoration-color: #800000\">│</span>   <span style=\"color: #7f7f7f; text-decoration-color: #7f7f7f\">1479 │   │   </span><span style=\"color: #0000ff; text-decoration-color: #0000ff\">if</span> <span style=\"color: #ff00ff; text-decoration-color: #ff00ff\">not</span> (<span style=\"color: #00ffff; text-decoration-color: #00ffff\">self</span>._backward_hooks <span style=\"color: #ff00ff; text-decoration-color: #ff00ff\">or</span> <span style=\"color: #00ffff; text-decoration-color: #00ffff\">self</span>._backward_pre_hooks <span style=\"color: #ff00ff; text-decoration-color: #ff00ff\">or</span> <span style=\"color: #00ffff; text-decoration-color: #00ffff\">self</span>._forward_hooks   <span style=\"color: #800000; text-decoration-color: #800000\">│</span>\n",
       "<span style=\"color: #800000; text-decoration-color: #800000\">│</span>   <span style=\"color: #7f7f7f; text-decoration-color: #7f7f7f\">1480 │   │   │   │   </span><span style=\"color: #ff00ff; text-decoration-color: #ff00ff\">or</span> _global_backward_pre_hooks <span style=\"color: #ff00ff; text-decoration-color: #ff00ff\">or</span> _global_backward_hooks                   <span style=\"color: #800000; text-decoration-color: #800000\">│</span>\n",
       "<span style=\"color: #800000; text-decoration-color: #800000\">│</span>   <span style=\"color: #7f7f7f; text-decoration-color: #7f7f7f\">1481 │   │   │   │   </span><span style=\"color: #ff00ff; text-decoration-color: #ff00ff\">or</span> _global_forward_hooks <span style=\"color: #ff00ff; text-decoration-color: #ff00ff\">or</span> _global_forward_pre_hooks):                   <span style=\"color: #800000; text-decoration-color: #800000\">│</span>\n",
       "<span style=\"color: #800000; text-decoration-color: #800000\">│</span> <span style=\"color: #800000; text-decoration-color: #800000\">❱ </span>1482 <span style=\"color: #7f7f7f; text-decoration-color: #7f7f7f\">│   │   │   </span><span style=\"color: #0000ff; text-decoration-color: #0000ff\">return</span> forward_call(*args, **kwargs)                                          <span style=\"color: #800000; text-decoration-color: #800000\">│</span>\n",
       "<span style=\"color: #800000; text-decoration-color: #800000\">│</span>   <span style=\"color: #7f7f7f; text-decoration-color: #7f7f7f\">1483 │   │   # Do not call functions when jit is used</span>                                          <span style=\"color: #800000; text-decoration-color: #800000\">│</span>\n",
       "<span style=\"color: #800000; text-decoration-color: #800000\">│</span>   <span style=\"color: #7f7f7f; text-decoration-color: #7f7f7f\">1484 │   │   </span>full_backward_hooks, non_full_backward_hooks = [], []                             <span style=\"color: #800000; text-decoration-color: #800000\">│</span>\n",
       "<span style=\"color: #800000; text-decoration-color: #800000\">│</span>   <span style=\"color: #7f7f7f; text-decoration-color: #7f7f7f\">1485 │   │   </span>backward_pre_hooks = []                                                           <span style=\"color: #800000; text-decoration-color: #800000\">│</span>\n",
       "<span style=\"color: #800000; text-decoration-color: #800000\">│</span>                                                                                                  <span style=\"color: #800000; text-decoration-color: #800000\">│</span>\n",
       "<span style=\"color: #800000; text-decoration-color: #800000\">│</span> <span style=\"color: #bfbf7f; text-decoration-color: #bfbf7f\">/opt/homebrew/anaconda3/lib/python3.9/site-packages/transformers/models/biogpt/</span><span style=\"color: #808000; text-decoration-color: #808000; font-weight: bold\">modeling_biogpt.p</span> <span style=\"color: #800000; text-decoration-color: #800000\">│</span>\n",
       "<span style=\"color: #800000; text-decoration-color: #800000\">│</span> <span style=\"color: #808000; text-decoration-color: #808000; font-weight: bold\">y</span>:<span style=\"color: #0000ff; text-decoration-color: #0000ff\">537</span> in <span style=\"color: #00ff00; text-decoration-color: #00ff00\">forward</span>                                                                                 <span style=\"color: #800000; text-decoration-color: #800000\">│</span>\n",
       "<span style=\"color: #800000; text-decoration-color: #800000\">│</span>                                                                                                  <span style=\"color: #800000; text-decoration-color: #800000\">│</span>\n",
       "<span style=\"color: #800000; text-decoration-color: #800000\">│</span>   <span style=\"color: #7f7f7f; text-decoration-color: #7f7f7f\">534 │   │   # embed positions</span>                                                                  <span style=\"color: #800000; text-decoration-color: #800000\">│</span>\n",
       "<span style=\"color: #800000; text-decoration-color: #800000\">│</span>   <span style=\"color: #7f7f7f; text-decoration-color: #7f7f7f\">535 │   │   </span>positions = <span style=\"color: #00ffff; text-decoration-color: #00ffff\">self</span>.embed_positions(attention_mask, past_key_values_length)           <span style=\"color: #800000; text-decoration-color: #800000\">│</span>\n",
       "<span style=\"color: #800000; text-decoration-color: #800000\">│</span>   <span style=\"color: #7f7f7f; text-decoration-color: #7f7f7f\">536 │   │   </span>                                                                                   <span style=\"color: #800000; text-decoration-color: #800000\">│</span>\n",
       "<span style=\"color: #800000; text-decoration-color: #800000\">│</span> <span style=\"color: #800000; text-decoration-color: #800000\">❱ </span>537 <span style=\"color: #7f7f7f; text-decoration-color: #7f7f7f\">│   │   </span>attention_mask = <span style=\"color: #00ffff; text-decoration-color: #00ffff\">self</span>._prepare_decoder_attention_mask(                             <span style=\"color: #800000; text-decoration-color: #800000\">│</span>\n",
       "<span style=\"color: #800000; text-decoration-color: #800000\">│</span>   <span style=\"color: #7f7f7f; text-decoration-color: #7f7f7f\">538 │   │   │   </span>attention_mask, input_shape, inputs_embeds, past_key_values_length             <span style=\"color: #800000; text-decoration-color: #800000\">│</span>\n",
       "<span style=\"color: #800000; text-decoration-color: #800000\">│</span>   <span style=\"color: #7f7f7f; text-decoration-color: #7f7f7f\">539 │   │   </span>)                                                                                  <span style=\"color: #800000; text-decoration-color: #800000\">│</span>\n",
       "<span style=\"color: #800000; text-decoration-color: #800000\">│</span>   <span style=\"color: #7f7f7f; text-decoration-color: #7f7f7f\">540 </span>                                                                                           <span style=\"color: #800000; text-decoration-color: #800000\">│</span>\n",
       "<span style=\"color: #800000; text-decoration-color: #800000\">│</span>                                                                                                  <span style=\"color: #800000; text-decoration-color: #800000\">│</span>\n",
       "<span style=\"color: #800000; text-decoration-color: #800000\">│</span> <span style=\"color: #bfbf7f; text-decoration-color: #bfbf7f\">/opt/homebrew/anaconda3/lib/python3.9/site-packages/transformers/models/biogpt/</span><span style=\"color: #808000; text-decoration-color: #808000; font-weight: bold\">modeling_biogpt.p</span> <span style=\"color: #800000; text-decoration-color: #800000\">│</span>\n",
       "<span style=\"color: #800000; text-decoration-color: #800000\">│</span> <span style=\"color: #808000; text-decoration-color: #808000; font-weight: bold\">y</span>:<span style=\"color: #0000ff; text-decoration-color: #0000ff\">479</span> in <span style=\"color: #00ff00; text-decoration-color: #00ff00\">_prepare_decoder_attention_mask</span>                                                         <span style=\"color: #800000; text-decoration-color: #800000\">│</span>\n",
       "<span style=\"color: #800000; text-decoration-color: #800000\">│</span>                                                                                                  <span style=\"color: #800000; text-decoration-color: #800000\">│</span>\n",
       "<span style=\"color: #800000; text-decoration-color: #800000\">│</span>   <span style=\"color: #7f7f7f; text-decoration-color: #7f7f7f\">476 │   │   </span>                                                                                   <span style=\"color: #800000; text-decoration-color: #800000\">│</span>\n",
       "<span style=\"color: #800000; text-decoration-color: #800000\">│</span>   <span style=\"color: #7f7f7f; text-decoration-color: #7f7f7f\">477 │   │   </span><span style=\"color: #0000ff; text-decoration-color: #0000ff\">if</span> attention_mask <span style=\"color: #ff00ff; text-decoration-color: #ff00ff\">is</span> <span style=\"color: #ff00ff; text-decoration-color: #ff00ff\">not</span> <span style=\"color: #0000ff; text-decoration-color: #0000ff\">None</span>:                                                     <span style=\"color: #800000; text-decoration-color: #800000\">│</span>\n",
       "<span style=\"color: #800000; text-decoration-color: #800000\">│</span>   <span style=\"color: #7f7f7f; text-decoration-color: #7f7f7f\">478 │   │   │   # [bsz, seq_len] -&gt; [bsz, 1, tgt_seq_len, src_seq_len]</span>                         <span style=\"color: #800000; text-decoration-color: #800000\">│</span>\n",
       "<span style=\"color: #800000; text-decoration-color: #800000\">│</span> <span style=\"color: #800000; text-decoration-color: #800000\">❱ </span>479 <span style=\"color: #7f7f7f; text-decoration-color: #7f7f7f\">│   │   │   </span>expanded_attn_mask = _expand_mask(attention_mask, inputs_embeds.dtype, tgt_l   <span style=\"color: #800000; text-decoration-color: #800000\">│</span>\n",
       "<span style=\"color: #800000; text-decoration-color: #800000\">│</span>   <span style=\"color: #7f7f7f; text-decoration-color: #7f7f7f\">480 │   │   │   │   </span>inputs_embeds.device                                                       <span style=\"color: #800000; text-decoration-color: #800000\">│</span>\n",
       "<span style=\"color: #800000; text-decoration-color: #800000\">│</span>   <span style=\"color: #7f7f7f; text-decoration-color: #7f7f7f\">481 │   │   │   </span>)                                                                              <span style=\"color: #800000; text-decoration-color: #800000\">│</span>\n",
       "<span style=\"color: #800000; text-decoration-color: #800000\">│</span>   <span style=\"color: #7f7f7f; text-decoration-color: #7f7f7f\">482 │   │   │   </span>combined_attention_mask = (                                                    <span style=\"color: #800000; text-decoration-color: #800000\">│</span>\n",
       "<span style=\"color: #800000; text-decoration-color: #800000\">│</span>                                                                                                  <span style=\"color: #800000; text-decoration-color: #800000\">│</span>\n",
       "<span style=\"color: #800000; text-decoration-color: #800000\">│</span> <span style=\"color: #bfbf7f; text-decoration-color: #bfbf7f\">/opt/homebrew/anaconda3/lib/python3.9/site-packages/transformers/models/biogpt/</span><span style=\"color: #808000; text-decoration-color: #808000; font-weight: bold\">modeling_biogpt.p</span> <span style=\"color: #800000; text-decoration-color: #800000\">│</span>\n",
       "<span style=\"color: #800000; text-decoration-color: #800000\">│</span> <span style=\"color: #808000; text-decoration-color: #808000; font-weight: bold\">y</span>:<span style=\"color: #0000ff; text-decoration-color: #0000ff\">70</span> in <span style=\"color: #00ff00; text-decoration-color: #00ff00\">_expand_mask</span>                                                                             <span style=\"color: #800000; text-decoration-color: #800000\">│</span>\n",
       "<span style=\"color: #800000; text-decoration-color: #800000\">│</span>                                                                                                  <span style=\"color: #800000; text-decoration-color: #800000\">│</span>\n",
       "<span style=\"color: #800000; text-decoration-color: #800000\">│</span>   <span style=\"color: #7f7f7f; text-decoration-color: #7f7f7f\"> 67 │   </span>bsz, src_len = mask.size()                                                             <span style=\"color: #800000; text-decoration-color: #800000\">│</span>\n",
       "<span style=\"color: #800000; text-decoration-color: #800000\">│</span>   <span style=\"color: #7f7f7f; text-decoration-color: #7f7f7f\"> 68 │   </span>tgt_len = tgt_len <span style=\"color: #0000ff; text-decoration-color: #0000ff\">if</span> tgt_len <span style=\"color: #ff00ff; text-decoration-color: #ff00ff\">is</span> <span style=\"color: #ff00ff; text-decoration-color: #ff00ff\">not</span> <span style=\"color: #0000ff; text-decoration-color: #0000ff\">None</span> <span style=\"color: #0000ff; text-decoration-color: #0000ff\">else</span> src_len                                  <span style=\"color: #800000; text-decoration-color: #800000\">│</span>\n",
       "<span style=\"color: #800000; text-decoration-color: #800000\">│</span>   <span style=\"color: #7f7f7f; text-decoration-color: #7f7f7f\"> 69 │   </span>                                                                                       <span style=\"color: #800000; text-decoration-color: #800000\">│</span>\n",
       "<span style=\"color: #800000; text-decoration-color: #800000\">│</span> <span style=\"color: #800000; text-decoration-color: #800000\">❱ </span> 70 <span style=\"color: #7f7f7f; text-decoration-color: #7f7f7f\">│   </span>expanded_mask = mask[:, <span style=\"color: #0000ff; text-decoration-color: #0000ff\">None</span>, <span style=\"color: #0000ff; text-decoration-color: #0000ff\">None</span>, :].expand(bsz, <span style=\"color: #0000ff; text-decoration-color: #0000ff\">1</span>, tgt_len, src_len).to(dtype)      <span style=\"color: #800000; text-decoration-color: #800000\">│</span>\n",
       "<span style=\"color: #800000; text-decoration-color: #800000\">│</span>   <span style=\"color: #7f7f7f; text-decoration-color: #7f7f7f\"> 71 │   </span>                                                                                       <span style=\"color: #800000; text-decoration-color: #800000\">│</span>\n",
       "<span style=\"color: #800000; text-decoration-color: #800000\">│</span>   <span style=\"color: #7f7f7f; text-decoration-color: #7f7f7f\"> 72 │   </span>inverted_mask = <span style=\"color: #0000ff; text-decoration-color: #0000ff\">1.0</span> - expanded_mask                                                    <span style=\"color: #800000; text-decoration-color: #800000\">│</span>\n",
       "<span style=\"color: #800000; text-decoration-color: #800000\">│</span>   <span style=\"color: #7f7f7f; text-decoration-color: #7f7f7f\"> 73 </span>                                                                                           <span style=\"color: #800000; text-decoration-color: #800000\">│</span>\n",
       "<span style=\"color: #800000; text-decoration-color: #800000\">╰──────────────────────────────────────────────────────────────────────────────────────────────────╯</span>\n",
       "<span style=\"color: #ff0000; text-decoration-color: #ff0000; font-weight: bold\">KeyboardInterrupt</span>\n",
       "</pre>\n"
      ],
      "text/plain": [
       "\u001b[31m╭─\u001b[0m\u001b[31m────────────────────────────── \u001b[0m\u001b[1;31mTraceback \u001b[0m\u001b[1;2;31m(most recent call last)\u001b[0m\u001b[31m ───────────────────────────────\u001b[0m\u001b[31m─╮\u001b[0m\n",
       "\u001b[31m│\u001b[0m \u001b[2;33m/var/folders/sc/18nvh9y94q9fy8hzdrzkl8lh0000gn/T/ipykernel_15698/\u001b[0m\u001b[1;33m4021019181.py\u001b[0m:\u001b[94m1\u001b[0m in \u001b[92m<module>\u001b[0m     \u001b[31m│\u001b[0m\n",
       "\u001b[31m│\u001b[0m                                                                                                  \u001b[31m│\u001b[0m\n",
       "\u001b[31m│\u001b[0m \u001b[3;31m[Errno 2] No such file or directory: \u001b[0m                                                            \u001b[31m│\u001b[0m\n",
       "\u001b[31m│\u001b[0m \u001b[3;31m'/var/folders/sc/18nvh9y94q9fy8hzdrzkl8lh0000gn/T/ipykernel_15698/4021019181.py'\u001b[0m                 \u001b[31m│\u001b[0m\n",
       "\u001b[31m│\u001b[0m                                                                                                  \u001b[31m│\u001b[0m\n",
       "\u001b[31m│\u001b[0m \u001b[2;33m/var/folders/sc/18nvh9y94q9fy8hzdrzkl8lh0000gn/T/ipykernel_15698/\u001b[0m\u001b[1;33m3226109416.py\u001b[0m:\u001b[94m19\u001b[0m in             \u001b[31m│\u001b[0m\n",
       "\u001b[31m│\u001b[0m \u001b[92mcompute_gpt_scores\u001b[0m                                                                               \u001b[31m│\u001b[0m\n",
       "\u001b[31m│\u001b[0m                                                                                                  \u001b[31m│\u001b[0m\n",
       "\u001b[31m│\u001b[0m \u001b[3;31m[Errno 2] No such file or directory: \u001b[0m                                                            \u001b[31m│\u001b[0m\n",
       "\u001b[31m│\u001b[0m \u001b[3;31m'/var/folders/sc/18nvh9y94q9fy8hzdrzkl8lh0000gn/T/ipykernel_15698/3226109416.py'\u001b[0m                 \u001b[31m│\u001b[0m\n",
       "\u001b[31m│\u001b[0m                                                                                                  \u001b[31m│\u001b[0m\n",
       "\u001b[31m│\u001b[0m \u001b[2;33m/opt/homebrew/anaconda3/lib/python3.9/site-packages/torch/nn/modules/\u001b[0m\u001b[1;33mmodule.py\u001b[0m:\u001b[94m1482\u001b[0m in           \u001b[31m│\u001b[0m\n",
       "\u001b[31m│\u001b[0m \u001b[92m_call_impl\u001b[0m                                                                                       \u001b[31m│\u001b[0m\n",
       "\u001b[31m│\u001b[0m                                                                                                  \u001b[31m│\u001b[0m\n",
       "\u001b[31m│\u001b[0m   \u001b[2m1479 \u001b[0m\u001b[2m│   │   \u001b[0m\u001b[94mif\u001b[0m \u001b[95mnot\u001b[0m (\u001b[96mself\u001b[0m._backward_hooks \u001b[95mor\u001b[0m \u001b[96mself\u001b[0m._backward_pre_hooks \u001b[95mor\u001b[0m \u001b[96mself\u001b[0m._forward_hooks   \u001b[31m│\u001b[0m\n",
       "\u001b[31m│\u001b[0m   \u001b[2m1480 \u001b[0m\u001b[2m│   │   │   │   \u001b[0m\u001b[95mor\u001b[0m _global_backward_pre_hooks \u001b[95mor\u001b[0m _global_backward_hooks                   \u001b[31m│\u001b[0m\n",
       "\u001b[31m│\u001b[0m   \u001b[2m1481 \u001b[0m\u001b[2m│   │   │   │   \u001b[0m\u001b[95mor\u001b[0m _global_forward_hooks \u001b[95mor\u001b[0m _global_forward_pre_hooks):                   \u001b[31m│\u001b[0m\n",
       "\u001b[31m│\u001b[0m \u001b[31m❱ \u001b[0m1482 \u001b[2m│   │   │   \u001b[0m\u001b[94mreturn\u001b[0m forward_call(*args, **kwargs)                                          \u001b[31m│\u001b[0m\n",
       "\u001b[31m│\u001b[0m   \u001b[2m1483 \u001b[0m\u001b[2m│   │   \u001b[0m\u001b[2m# Do not call functions when jit is used\u001b[0m                                          \u001b[31m│\u001b[0m\n",
       "\u001b[31m│\u001b[0m   \u001b[2m1484 \u001b[0m\u001b[2m│   │   \u001b[0mfull_backward_hooks, non_full_backward_hooks = [], []                             \u001b[31m│\u001b[0m\n",
       "\u001b[31m│\u001b[0m   \u001b[2m1485 \u001b[0m\u001b[2m│   │   \u001b[0mbackward_pre_hooks = []                                                           \u001b[31m│\u001b[0m\n",
       "\u001b[31m│\u001b[0m                                                                                                  \u001b[31m│\u001b[0m\n",
       "\u001b[31m│\u001b[0m \u001b[2;33m/opt/homebrew/anaconda3/lib/python3.9/site-packages/transformers/models/biogpt/\u001b[0m\u001b[1;33mmodeling_biogpt.p\u001b[0m \u001b[31m│\u001b[0m\n",
       "\u001b[31m│\u001b[0m \u001b[1;33my\u001b[0m:\u001b[94m673\u001b[0m in \u001b[92mforward\u001b[0m                                                                                 \u001b[31m│\u001b[0m\n",
       "\u001b[31m│\u001b[0m                                                                                                  \u001b[31m│\u001b[0m\n",
       "\u001b[31m│\u001b[0m   \u001b[2m670 \u001b[0m\u001b[2;33m│   │   \u001b[0m\u001b[33m\"\"\"\u001b[0m                                                                                \u001b[31m│\u001b[0m\n",
       "\u001b[31m│\u001b[0m   \u001b[2m671 \u001b[0m\u001b[2m│   │   \u001b[0mreturn_dict = return_dict \u001b[94mif\u001b[0m return_dict \u001b[95mis\u001b[0m \u001b[95mnot\u001b[0m \u001b[94mNone\u001b[0m \u001b[94melse\u001b[0m \u001b[96mself\u001b[0m.config.use_return   \u001b[31m│\u001b[0m\n",
       "\u001b[31m│\u001b[0m   \u001b[2m672 \u001b[0m\u001b[2m│   │   \u001b[0m                                                                                   \u001b[31m│\u001b[0m\n",
       "\u001b[31m│\u001b[0m \u001b[31m❱ \u001b[0m673 \u001b[2m│   │   \u001b[0moutputs = \u001b[96mself\u001b[0m.biogpt(                                                             \u001b[31m│\u001b[0m\n",
       "\u001b[31m│\u001b[0m   \u001b[2m674 \u001b[0m\u001b[2m│   │   │   \u001b[0minput_ids,                                                                     \u001b[31m│\u001b[0m\n",
       "\u001b[31m│\u001b[0m   \u001b[2m675 \u001b[0m\u001b[2m│   │   │   \u001b[0mattention_mask=attention_mask,                                                 \u001b[31m│\u001b[0m\n",
       "\u001b[31m│\u001b[0m   \u001b[2m676 \u001b[0m\u001b[2m│   │   │   \u001b[0mhead_mask=head_mask,                                                           \u001b[31m│\u001b[0m\n",
       "\u001b[31m│\u001b[0m                                                                                                  \u001b[31m│\u001b[0m\n",
       "\u001b[31m│\u001b[0m \u001b[2;33m/opt/homebrew/anaconda3/lib/python3.9/site-packages/torch/nn/modules/\u001b[0m\u001b[1;33mmodule.py\u001b[0m:\u001b[94m1482\u001b[0m in           \u001b[31m│\u001b[0m\n",
       "\u001b[31m│\u001b[0m \u001b[92m_call_impl\u001b[0m                                                                                       \u001b[31m│\u001b[0m\n",
       "\u001b[31m│\u001b[0m                                                                                                  \u001b[31m│\u001b[0m\n",
       "\u001b[31m│\u001b[0m   \u001b[2m1479 \u001b[0m\u001b[2m│   │   \u001b[0m\u001b[94mif\u001b[0m \u001b[95mnot\u001b[0m (\u001b[96mself\u001b[0m._backward_hooks \u001b[95mor\u001b[0m \u001b[96mself\u001b[0m._backward_pre_hooks \u001b[95mor\u001b[0m \u001b[96mself\u001b[0m._forward_hooks   \u001b[31m│\u001b[0m\n",
       "\u001b[31m│\u001b[0m   \u001b[2m1480 \u001b[0m\u001b[2m│   │   │   │   \u001b[0m\u001b[95mor\u001b[0m _global_backward_pre_hooks \u001b[95mor\u001b[0m _global_backward_hooks                   \u001b[31m│\u001b[0m\n",
       "\u001b[31m│\u001b[0m   \u001b[2m1481 \u001b[0m\u001b[2m│   │   │   │   \u001b[0m\u001b[95mor\u001b[0m _global_forward_hooks \u001b[95mor\u001b[0m _global_forward_pre_hooks):                   \u001b[31m│\u001b[0m\n",
       "\u001b[31m│\u001b[0m \u001b[31m❱ \u001b[0m1482 \u001b[2m│   │   │   \u001b[0m\u001b[94mreturn\u001b[0m forward_call(*args, **kwargs)                                          \u001b[31m│\u001b[0m\n",
       "\u001b[31m│\u001b[0m   \u001b[2m1483 \u001b[0m\u001b[2m│   │   \u001b[0m\u001b[2m# Do not call functions when jit is used\u001b[0m                                          \u001b[31m│\u001b[0m\n",
       "\u001b[31m│\u001b[0m   \u001b[2m1484 \u001b[0m\u001b[2m│   │   \u001b[0mfull_backward_hooks, non_full_backward_hooks = [], []                             \u001b[31m│\u001b[0m\n",
       "\u001b[31m│\u001b[0m   \u001b[2m1485 \u001b[0m\u001b[2m│   │   \u001b[0mbackward_pre_hooks = []                                                           \u001b[31m│\u001b[0m\n",
       "\u001b[31m│\u001b[0m                                                                                                  \u001b[31m│\u001b[0m\n",
       "\u001b[31m│\u001b[0m \u001b[2;33m/opt/homebrew/anaconda3/lib/python3.9/site-packages/transformers/models/biogpt/\u001b[0m\u001b[1;33mmodeling_biogpt.p\u001b[0m \u001b[31m│\u001b[0m\n",
       "\u001b[31m│\u001b[0m \u001b[1;33my\u001b[0m:\u001b[94m537\u001b[0m in \u001b[92mforward\u001b[0m                                                                                 \u001b[31m│\u001b[0m\n",
       "\u001b[31m│\u001b[0m                                                                                                  \u001b[31m│\u001b[0m\n",
       "\u001b[31m│\u001b[0m   \u001b[2m534 \u001b[0m\u001b[2m│   │   \u001b[0m\u001b[2m# embed positions\u001b[0m                                                                  \u001b[31m│\u001b[0m\n",
       "\u001b[31m│\u001b[0m   \u001b[2m535 \u001b[0m\u001b[2m│   │   \u001b[0mpositions = \u001b[96mself\u001b[0m.embed_positions(attention_mask, past_key_values_length)           \u001b[31m│\u001b[0m\n",
       "\u001b[31m│\u001b[0m   \u001b[2m536 \u001b[0m\u001b[2m│   │   \u001b[0m                                                                                   \u001b[31m│\u001b[0m\n",
       "\u001b[31m│\u001b[0m \u001b[31m❱ \u001b[0m537 \u001b[2m│   │   \u001b[0mattention_mask = \u001b[96mself\u001b[0m._prepare_decoder_attention_mask(                             \u001b[31m│\u001b[0m\n",
       "\u001b[31m│\u001b[0m   \u001b[2m538 \u001b[0m\u001b[2m│   │   │   \u001b[0mattention_mask, input_shape, inputs_embeds, past_key_values_length             \u001b[31m│\u001b[0m\n",
       "\u001b[31m│\u001b[0m   \u001b[2m539 \u001b[0m\u001b[2m│   │   \u001b[0m)                                                                                  \u001b[31m│\u001b[0m\n",
       "\u001b[31m│\u001b[0m   \u001b[2m540 \u001b[0m                                                                                           \u001b[31m│\u001b[0m\n",
       "\u001b[31m│\u001b[0m                                                                                                  \u001b[31m│\u001b[0m\n",
       "\u001b[31m│\u001b[0m \u001b[2;33m/opt/homebrew/anaconda3/lib/python3.9/site-packages/transformers/models/biogpt/\u001b[0m\u001b[1;33mmodeling_biogpt.p\u001b[0m \u001b[31m│\u001b[0m\n",
       "\u001b[31m│\u001b[0m \u001b[1;33my\u001b[0m:\u001b[94m479\u001b[0m in \u001b[92m_prepare_decoder_attention_mask\u001b[0m                                                         \u001b[31m│\u001b[0m\n",
       "\u001b[31m│\u001b[0m                                                                                                  \u001b[31m│\u001b[0m\n",
       "\u001b[31m│\u001b[0m   \u001b[2m476 \u001b[0m\u001b[2m│   │   \u001b[0m                                                                                   \u001b[31m│\u001b[0m\n",
       "\u001b[31m│\u001b[0m   \u001b[2m477 \u001b[0m\u001b[2m│   │   \u001b[0m\u001b[94mif\u001b[0m attention_mask \u001b[95mis\u001b[0m \u001b[95mnot\u001b[0m \u001b[94mNone\u001b[0m:                                                     \u001b[31m│\u001b[0m\n",
       "\u001b[31m│\u001b[0m   \u001b[2m478 \u001b[0m\u001b[2m│   │   │   \u001b[0m\u001b[2m# [bsz, seq_len] -> [bsz, 1, tgt_seq_len, src_seq_len]\u001b[0m                         \u001b[31m│\u001b[0m\n",
       "\u001b[31m│\u001b[0m \u001b[31m❱ \u001b[0m479 \u001b[2m│   │   │   \u001b[0mexpanded_attn_mask = _expand_mask(attention_mask, inputs_embeds.dtype, tgt_l   \u001b[31m│\u001b[0m\n",
       "\u001b[31m│\u001b[0m   \u001b[2m480 \u001b[0m\u001b[2m│   │   │   │   \u001b[0minputs_embeds.device                                                       \u001b[31m│\u001b[0m\n",
       "\u001b[31m│\u001b[0m   \u001b[2m481 \u001b[0m\u001b[2m│   │   │   \u001b[0m)                                                                              \u001b[31m│\u001b[0m\n",
       "\u001b[31m│\u001b[0m   \u001b[2m482 \u001b[0m\u001b[2m│   │   │   \u001b[0mcombined_attention_mask = (                                                    \u001b[31m│\u001b[0m\n",
       "\u001b[31m│\u001b[0m                                                                                                  \u001b[31m│\u001b[0m\n",
       "\u001b[31m│\u001b[0m \u001b[2;33m/opt/homebrew/anaconda3/lib/python3.9/site-packages/transformers/models/biogpt/\u001b[0m\u001b[1;33mmodeling_biogpt.p\u001b[0m \u001b[31m│\u001b[0m\n",
       "\u001b[31m│\u001b[0m \u001b[1;33my\u001b[0m:\u001b[94m70\u001b[0m in \u001b[92m_expand_mask\u001b[0m                                                                             \u001b[31m│\u001b[0m\n",
       "\u001b[31m│\u001b[0m                                                                                                  \u001b[31m│\u001b[0m\n",
       "\u001b[31m│\u001b[0m   \u001b[2m 67 \u001b[0m\u001b[2m│   \u001b[0mbsz, src_len = mask.size()                                                             \u001b[31m│\u001b[0m\n",
       "\u001b[31m│\u001b[0m   \u001b[2m 68 \u001b[0m\u001b[2m│   \u001b[0mtgt_len = tgt_len \u001b[94mif\u001b[0m tgt_len \u001b[95mis\u001b[0m \u001b[95mnot\u001b[0m \u001b[94mNone\u001b[0m \u001b[94melse\u001b[0m src_len                                  \u001b[31m│\u001b[0m\n",
       "\u001b[31m│\u001b[0m   \u001b[2m 69 \u001b[0m\u001b[2m│   \u001b[0m                                                                                       \u001b[31m│\u001b[0m\n",
       "\u001b[31m│\u001b[0m \u001b[31m❱ \u001b[0m 70 \u001b[2m│   \u001b[0mexpanded_mask = mask[:, \u001b[94mNone\u001b[0m, \u001b[94mNone\u001b[0m, :].expand(bsz, \u001b[94m1\u001b[0m, tgt_len, src_len).to(dtype)      \u001b[31m│\u001b[0m\n",
       "\u001b[31m│\u001b[0m   \u001b[2m 71 \u001b[0m\u001b[2m│   \u001b[0m                                                                                       \u001b[31m│\u001b[0m\n",
       "\u001b[31m│\u001b[0m   \u001b[2m 72 \u001b[0m\u001b[2m│   \u001b[0minverted_mask = \u001b[94m1.0\u001b[0m - expanded_mask                                                    \u001b[31m│\u001b[0m\n",
       "\u001b[31m│\u001b[0m   \u001b[2m 73 \u001b[0m                                                                                           \u001b[31m│\u001b[0m\n",
       "\u001b[31m╰──────────────────────────────────────────────────────────────────────────────────────────────────╯\u001b[0m\n",
       "\u001b[1;91mKeyboardInterrupt\u001b[0m\n"
      ]
     },
     "metadata": {},
     "output_type": "display_data"
    }
   ],
   "source": [
    "scores_biogpt = compute_gpt_scores(tokenizer, model, sentence_pairs, model_name='biogpt')"
   ]
  },
  {
   "cell_type": "code",
   "execution_count": 61,
   "id": "1ecc3381",
   "metadata": {},
   "outputs": [],
   "source": [
    "context_enc = tokenizer.encode(context, add_special_tokens=False)\n",
    "continuation_enc = tokenizer.encode(query, add_special_tokens=False)\n",
    "# Slice off the last token, as we take its probability from the one before\n",
    "model_input = torch.tensor(context_enc+continuation_enc[:-1]).to(device)\n",
    "continuation_len = len(continuation_enc)\n",
    "input_len, = model_input.shape"
   ]
  },
  {
   "cell_type": "code",
   "execution_count": 70,
   "id": "f199153e",
   "metadata": {},
   "outputs": [
    {
     "name": "stdout",
     "output_type": "stream",
     "text": [
      "CPU times: user 121 ms, sys: 38.4 ms, total: 160 ms\n",
      "Wall time: 135 ms\n"
     ]
    }
   ],
   "source": [
    "%%time\n",
    "# [seq_len] -> [seq_len, vocab]\n",
    "# probability of each word of following the previous words\n",
    "#output = model(model_input.unsqueeze(dim=0))[0][0]\n",
    "output = model(model_input)[0]\n",
    "logprobs = torch.nn.functional.log_softmax(output, dim=-1).cpu()\n",
    "# vocab indices of continuation tokens\n",
    "continuation_index = torch.tensor(continuation_enc).unsqueeze(-1)\n",
    "# Gather the log probabilities of the continuation tokens -> [continuation_len]\n",
    "logprobs_continuation = torch.gather(logprobs[-continuation_len:], 1, continuation_index).squeeze(-1)\n",
    "# The query probability\n",
    "score = torch.sum(logprobs_continuation)"
   ]
  },
  {
   "cell_type": "code",
   "execution_count": 20,
   "id": "5b741032",
   "metadata": {},
   "outputs": [],
   "source": [
    "import numpy as np\n",
    "scores_np = np.array([-n.detach().numpy() for n in scores])\n",
    "scores_sorted = np.argsort(scores_np)"
   ]
  },
  {
   "cell_type": "code",
   "execution_count": 21,
   "id": "769f92e2",
   "metadata": {},
   "outputs": [
    {
     "data": {
      "text/plain": [
       "[['Are gut microbiota profiles altered by irradiation?',\n",
       "  'Evaluating gut microbiota profiles from archived fecal samples. BACKGROUND: Associations between colorectal cancer and microbiota have been identified. Archived fecal samples might be valuable sample sources for investigating causality in carcinogenesis and biomarkers discovery due to the potential of performing longitudinal studies. However, the quality, quantity and stability of the gut microbiota in these fecal samples must be assessed prior to such studies. We evaluated i) cross-contamination during analysis for fecal blood and ii) evaporation in stored perforated fecal immunochemical tests (iFOBT) samples, iii) temperature stability as well as iv) comparison of the gut microbiota diversity and composition in archived, iFOBT and fresh fecal samples in order to assess feasibility of large scale microbiota studies.METHODS: The microbiota profiles were obtained by sequencing the V3-V4 region of 16S rDNA gene.RESULTS: The iFOBT does not introduce any cross-sample contamination detectable by qPCR. Neither could we detect evaporation during freeze-thaw cycle of perforated iFOBT samples. Our results confirm room temperature stability of the gut microbiome. Diverse microbial profiles were achieved in 100% of fresh, 81% of long-term archived and 96% of iFOBT samples. Microbial diversity and composition were comparable between fresh and iFOBT samples, however, diversity differed significantly between long-term archived, fresh and iFOBT samples.CONCLUSION: Our data showed that it is feasible to exploit archived fecal sample sets originally collected for testing of fecal blood. The advantages of using these sample sets for microbial biomarker discovery and longitudinal observational studies are the availability of high-quality diagnostic and follow-up data. However, care must be taken when microbiota are profiled in long-term archived fecal samples.'],\n",
       " ['Are gut microbiota profiles altered by irradiation?',\n",
       "  'Specific Members of the Gut Microbiota are Reliable Biomarkers of Irradiation Intensity and Lethality in Large Animal Models of Human Health. The development of effective biomarkers for detecting the magnitude of radiation exposure and resiliency of host response is crucial to identifying appropriate treatment strategies after radiation exposure. We hypothesized that the gastrointestinal resident bacteria would demonstrate predictable, dose-dependent changes after radiation exposure across two large animal models of acute radiation syndrome. Here, G?ttingen minipigs (GMP) (n = 50) and rhesus macaques (n = 48) were exposed to five dose levels (resulting in mortality rates of 33-100% and 25-68.7%, respectively). Fecal samples taken prior to and after irradiation (day 0 for GMP; day 0, 3 and 14 for macaques) were used for 16S rRNA gene sequence amplicon high-throughput sequencing. Baseline gut microbiota profiles were dissimilar between GMP and macaques, however, radiation appeared to have similar effect at the phylum level, resulting in Bacteroidetes decrease and Firmicutes increase in both models. The abundance of the main Bacteroidetes genus ( Bacteroides for GMP, Prevotella for macaques) was profoundly decreased by irradiation. Intracellular symbionts [Elusimicrobia in GMP, Treponema (Spirochaetes) in macaques] consistently increased after irradiation, suggesting their use as potential biomarkers of intestinal injury, and potential negative effect on health. Prevotella, Lactobacillus, Clostridium XIVa, Oscillibacter and Elusimicrobium/ Treponema abundances were found to be very significantly correlated with radiation intensity. Furthermore, Prevotella, Enterorhabdus and Ruminococcus and Enterorhabdus maintenance was strongly associated with survival in GMP, while Prevotella, Oscillibacter and Treponema were strongly associated with survival and Streptococcus with death in macaques. Overall, we found that a wide range of gut bacterial genera known to be abundant in the human gut microbiota are excellent biomarkers of radiation intensity and resilience in animal models, and that detrimental effects can be monitored, and potentially prevented, by targeting selected genera.'],\n",
       " ['Are gut microbiota profiles altered by irradiation?',\n",
       "  'The gut microbiota regulates bone mass in mice. The gut microbiota modulates host metabolism and development of immune status. Here we show that the gut microbiota is also a major regulator of bone mass in mice. Germ-free (GF) mice exhibit increased bone mass associated with reduced number of osteoclasts per bone surface compared with conventionally raised (CONV-R) mice. Colonization of GF mice with a normal gut microbiota normalizes bone mass. Furthermore, GF mice have decreased frequency of CD4(+) T cells and CD11b(+) /GR 1 osteoclast precursor cells in bone marrow, which could be normalized by colonization. GF mice exhibited reduced expression of inflammatory cytokines in bone and bone marrow compared with CONV-R mice. In summary, the gut microbiota regulates bone mass in mice, and we provide evidence for a mechanism involving altered immune status in bone and thereby affected osteoclast-mediated bone resorption. Further studies are required to evaluate the gut microbiota as a novel therapeutic target for osteoporosis.'],\n",
       " ['Are gut microbiota profiles altered by irradiation?',\n",
       "  'Terminal-restriction fragment length polymorphism (T-RFLP) analysis for changes in the gut microbiota profiles of indomethacin- and rebamipide-treated mice. BACKGROUND/AIMS: We investigated the effects of indomethacin and rebamipide on the gut microbiota profiles using terminal restriction fragment polymorphism (T-RFLP) analysis.MATERIALS AND METHODS: Female C57BL/6J mice were given indomethacin (10 mg/kg, s.c.) once a day and 2.5 mg rebamipide orally 3 times a day. After 7 days, they were sacrificed, and luminal contents were obtained from the ileum and cecum. The gut microbiota communities were analyzed by T-RFLP analysis with BslI digestion.RESULTS: T-RFLP analyses showed that rebamipide and indomethacin had no significant effects on the gut microbiota profiles in the ileum and cecum. In contrast, the combination of rebamipide + indomethacin induced a significant change in the gut microbiota. The changes in the microbiota composition induced by the combination of rebamipide + indomethacin were characterized by the increase in the orders Bifidobacteriales and Lactobacillales, the genera Bacteroides and Prevotella and the family Clostridiaceae. The diversity of the gut microbiota community generated by the combination of rebamipide + indomethacin was significantly higher than those induced by either rebamipide or indomethacin alone.CONCLUSION: The combination of rebamipide + indomethacin induces remarkable changes in the gut microbiota composition and diversity. The clinical activity of rebamipide on nonsteroidal anti-inflammatory drug-induced intestinal injury may be exerted through a modulation of the gut microbiota.'],\n",
       " ['Are gut microbiota profiles altered by irradiation?',\n",
       "  'The Akkermansia muciniphila is a gut microbiota signature in psoriasis. Psoriasis is an immune-mediated chronic inflammatory skin disease. Although its pathogenesis is not fully understood, Th17 cells and the cytokines they produce, such as IL-17, IL-22 and IL-23, play critical roles in the pathogenesis of psoriasis. Evidence has demonstrated that psoriasis has some common features, including immune responses (due to Th17 cells) and inflammatory cytokine profiles, with systematic diseases including inflammatory bowel diseases (IBDs) and obesity. Recently, studies have demonstrated that the gut microbiota plays a crucial role in host homoeostasis and immune response, particular in Th17 cells, but the role of the gut microbiota in psoriasis remains unclear. To study the relationship between gut microbiota and psoriasis, we analysed microbiota profiles in psoriasis using a 16S rDNA sequencing platform, and we found that the abundance of Akkermansia muciniphila was significantly reduced in patients with psoriasis. A.muciniphila is believed to have an important function in the pathogenesis of IBD and obesity; therefore, A.muciniphila, which is an indicator of health status, may be a key node for psoriasis as well as IBD and obesity. Taken together, our study identified that gut microbiota signature and function are significantly altered in the gut of patients with psoriasis, which provides a novel angle to understanding the pathogenesis of psoriasis.'],\n",
       " ['Are gut microbiota profiles altered by irradiation?',\n",
       "  'Gut microbiota composition modifies fecal metabolic profiles in mice. The gut microbiome is known to be extensively involved in human health and disease. In order to reveal the metabolic relationship between host and microbiome, we monitored recovery of the gut microbiota composition and fecal profiles of mice after gentamicin and/or ceftriaxone treatments. This was performed by employing (1)H nuclear magnetic resonance (NMR)-based metabonomics and denaturing gradient gel electrophoresis (DGGE) fingerprint of gut microbiota. The common features of fecal metabolites postantibiotic treatment include decreased levels of short chain fatty acids (SCFAs), amino acids and primary bile acids and increased oligosaccharides, d-pinitol, choline and secondary bile acids (deoxycholic acid). This suggests suppressed bacterial fermentation, protein degradation and enhanced gut microbial modification of bile acids. Barnesiella, Prevotella, and Alistipes levels were shown to decrease as a result of the antibiotic treatment, whereas levels of Bacteroides, Enterococcus and Erysipelotrichaceae incertae sedis, and Mycoplasma increased after gentamicin and ceftriaxone treatment. In addition, there was a strong correlation between fecal profiles and levels of Bacteroides, Barnesiella, Alistipes and Prevotella. The integration of metabonomics and gut microbiota profiling provides important information on the changes of gut microbiota and their impact on fecal profiles during the recovery after antibiotic treatment. The correlation between gut microbiota and fecal metabolites provides important information on the function of bacteria, which in turn could be important in optimizing therapeutic strategies, and developing potential microbiota-based disease preventions and therapeutic interventions.'],\n",
       " ['Are gut microbiota profiles altered by irradiation?',\n",
       "  'Differences in Gut Microbiota Profiles between Autoimmune Pancreatitis and Chronic Pancreatitis. Host-derived factors alter gut microenvironment, and changes in gut microbiota also affect biological functions of host. Alterations of gut microbiota have been reported in a wide variety of diseases, but the whole picture of alterations in pancreatic diseases remains to be clarified. In particular, the gut microbiota may be affected by malnutrition or impaired exocrine pancreas function that is associated with pancreatic diseases. We here conducted comprehensive analysis of gut microbiota in patients with type 1 autoimmune pancreatitis (AIP), a pancreatic manifestation of the systemic IgG4-related disease, and chronic pancreatitis (CP). The two diseases were selected, because altered immune reactions in AIP and/or long-standing malnutrition in CP may influence the gut microbiota. Fecal samples were obtained from 12 patients with AIP before the steroid therapy and 8 patients with CP. Metagenome DNA was extracted, and microbiota was analyzed by next generation sequencing. Gut microbiota profiles were different between patients with AIP and those with CP; namely, the proportions of Bacteroides, Streptococcus and Clostridium species were higher in patients with CP. The reasons for the increased proportion of these bacterial species remain unknown, but may reflect malabsorption and/or decreased pancreatic enzymes, both of which are associated with CP. Incidentally, the identified Streptococcus species are oral cavity inhabitants and also known as pathogens for endocarditis. Despite the small sample size, this study has shown the differences in gut microbiota profiles between AIP and CP. Comprehensive analysis of the gut microbiota may be useful for the differential diagnosis of pancreatic diseases.'],\n",
       " ['Are gut microbiota profiles altered by irradiation?',\n",
       "  'Gut microbiota, low-grade inflammation, and metabolic syndrome. The intestinal tract is inhabited by a large diverse community of bacteria collectively referred to as the gut microbiota. Alterations in gut microbiota composition are associated with a variety of disease states including obesity, diabetes, and inflammatory bowel disease (IBD). Transplant of microbiota from diseased persons (or mice) to germfree mice transfers some aspects of disease phenotype, indicating that altered microbiota plays a role in disease establishment and manifestation. There are myriad potential mechanisms by which alterations in gut microbiota might promote disease, including increasing energy harvest, production of toxic metabolites, and molecular mimicry of host proteins. However, our research indicates that an overarching mechanism by which an aberrant microbiota negatively impacts health is by driving chronic inflammation. More specifically, we hypothesize that the histopathologically evident gut inflammation that defines IBD is a severe but relatively rare outcome of an altered host-microbiota relationship, while a much more common consequence of such disturbances is \"low-grade\" inflammation characterized by elevated proinflammatory gene expression that associates with, and may promote, metabolic syndrome. In this context, a variety of chronic inflammatory diseases may stem from inability of the mucosal immune system to properly manage a stable healthy relationship with the gut microbiota. While one\\'s ability to manage their gut microbiota is dictated in part by genetics, it can be markedly influenced by the composition of the microbiota one inherits from their early environment. Moreover, the host-microbiota relationship can be perturbed by instigator bacteria or dietary components, which may prove to play a role in promoting chronic inflammatory disease states.'],\n",
       " ['Are gut microbiota profiles altered by irradiation?',\n",
       "  'Alterations in the gut microbiota and metabolite profiles of thyroid carcinoma patients. The aim of our study was to investigate the relationship among the gut microbiota community, metabolite profiles and thyroid carcinoma (TC). First, 30 TC patients and 35 healthy controls (HCs) fecal samples were applied to characterize the gut microbial community using 16S rRNA gene sequencing. Differential microbiota compositions were observed, with significant enrichment of 19 and depletion of 8 genera in TC samples compared to those in HCs (Q value <0.05), and some genera were correlated with various clinical parameters, such as lipoprotein A and apolipoprotein B. Furthermore, 6 different genera distinguished TC patients from HCs with the AUC of 0.94. The PICRUSt analysis showed 12 remarkably different metabolic pathways (Q value <0.05). Subsequently, we systematically analyzed the gut microbiota and metabolites in the same TC patients (n = 15) and HCs (n = 15). The characteristics of the gut microbiota community were mostly consistent with the above results (30 TC patients and 35 HCs), and liquid chromatography mass spectrometry analysis was performed to characterize the metabolite profiles. In total, 21 different genera (Q value <0.05) and 72 significantly changed metabolites (VIP > 1.0 and p < 0.05) were observed and correlated to each other. Eight metabolites combined with 5 genera were more effective in distinguishing TC patients from HCs (AUC = 0.97). In conclusion, our study presents a comprehensive landscape of the gut microbiota and metabolites in TC patients, and provides a research direction of the mechanism of interaction between gut microbiota alteration and TC pathogenesis.'],\n",
       " ['Are gut microbiota profiles altered by irradiation?',\n",
       "  'Altered metabolism of gut microbiota contributes to chronic immune activation in HIV-infected individuals. Altered interplay between gut mucosa and microbiota during treated HIV infection may possibly contribute to increased bacterial translocation and chronic immune activation, both of which are predictors of morbidity and mortality. Although a dysbiotic gut microbiota has recently been reported in HIV+ individuals, the metagenome gene pool associated with HIV infection remains unknown. The aim of this study is to characterize the functional gene content of gut microbiota in HIV+ patients and to define the metabolic pathways of this bacterial community, which is potentially associated with immune dysfunction. We determined systemic markers of innate and adaptive immunity in a cohort of HIV-infected individuals on successful antiretroviral therapy without comorbidities and in healthy non-HIV-infected subjects. Metagenome sequencing revealed an altered functional profile, with enrichment of the genes involved in various pathogenic processes, lipopolysaccharide biosynthesis, bacterial translocation, and other inflammatory pathways. In contrast, we observed depletion of genes involved in amino acid metabolism and energy processes. Bayesian networks showed significant interactions between the bacterial community, their altered metabolic pathways, and systemic markers of immune dysfunction. This study reveals altered metabolic activity of microbiota and provides novel insight into the potential host-microbiota interactions driving the sustained inflammatory state in successfully treated HIV-infected patients.'],\n",
       " ['Are gut microbiota profiles altered by irradiation?',\n",
       "  'The Gut Microbiota Mediates the Anti-Seizure Effects of the Ketogenic Diet. The ketogenic diet (KD) is used to treat refractory epilepsy, but the mechanisms underlying its neuroprotective effects remain unclear. Here, we show that the gut microbiota is altered by the KD and required for protection against acute electrically induced seizures and spontaneous tonic-clonic seizures in two mouse models. Mice treated with antibiotics or reared germ free are resistant to KD-mediated seizure protection. Enrichment of, and gnotobiotic co-colonization with, KD-associated Akkermansia and Parabacteroides restores seizure protection. Moreover, transplantation of the KD gut microbiota and treatment with Akkermansia and Parabacteroides each confer seizure protection to mice fed a control diet.Alterations in colonic lumenal, serum, and hippocampal metabolomic profiles correlate with seizure protection, including reductions in systemic gamma-glutamylated amino acids and elevated hippocampalGABA/glutamate levels. Bacterial cross-feeding decreases gamma-glutamyltranspeptidase activity, and inhibiting gamma-glutamylation promotes seizure protection invivo. Overall, this study reveals that the gut microbiota modulates host metabolism and seizure susceptibility in mice.'],\n",
       " ['Are gut microbiota profiles altered by irradiation?',\n",
       "  \"Optimisation of 16S rRNA gut microbiota profiling of extremely low birth weight infants. BACKGROUND: Infants born prematurely, particularly extremely low birth weight infants (ELBW) have altered gut microbial communities. Factors such as maternal health, gut immaturity, delivery mode, and antibiotic treatments are associated with microbiota disturbances, and are linked to an increased risk of certain diseases such as necrotising enterocolitis. Therefore, there is a requirement to optimally characterise microbial profiles in this at-risk cohort, via standardisation of methods, particularly for studying the influence of microbiota therapies (e.g. probiotic supplementation) on community profiles and health outcomes. Profiling of faecal samples using the 16S rRNA gene is a cost-efficient method for large-scale clinical studies to gain insights into the gut microbiota and additionally allows characterisation of cohorts were sample quantities are compromised (e.g. ELBW infants). However, DNA extraction method, and the 16S rRNA region targeted can significantly change bacterial community profiles obtained, and so confound comparisons between studies. Thus, we sought to optimise a 16S rRNA profiling protocol to allow standardisation for studying ELBW infant faecal samples, with or without probiotic supplementation.METHODS: Using ELBW faecal samples, we compared three different DNA extraction methods, and subsequently PCR amplified and sequenced three hypervariable regions of the 16S rRNA gene (V1+V2+V3), (V4+V5) and (V6+V7+V8), and compared two bioinformatics approaches to analyse results (OTU and paired end). Paired shotgun metagenomics was used as a 'gold-standard'.RESULTS: Results indicated a longer bead-beating step was required for optimal bacterial DNA extraction and that sequencing regions (V1+V2+V3) and (V6+V7+V8) provided the most representative taxonomic profiles, which was confirmed via shotgun analysis. Samples sequenced using the (V4+V5) region were found to be underrepresented in specific taxa including Bifidobacterium, and had altered diversity profiles. Both bioinformatics 16S rRNA pipelines used in this study (OTU and paired end) presented similar taxonomic profiles at genus level.CONCLUSIONS: We determined that DNA extraction from ELBW faecal samples, particularly those infants receiving probiotic supplementation, should include a prolonged beat-beating step. Furthermore, use of the 16S rRNA (V1+V2+V3) and (V6+V7+V8) regions provides reliable representation of ELBW microbiota profiles, while inclusion of the (V4+V5) region may not be appropriate for studies where Bifidobacterium constitutes a resident microbiota member.\"],\n",
       " ['Are gut microbiota profiles altered by irradiation?',\n",
       "  'Characterization of gut microbiota profiles in coronary artery disease patients using data mining analysis of terminal restriction fragment length polymorphism: gut microbiota could be a diagnostic marker of coronary artery disease. The association between atherosclerosis and gut microbiota has been attracting increased attention. We previously demonstrated a possible link between gut microbiota and coronary artery disease. Our aim of this study was to clarify the gut microbiota profiles in coronary artery disease patients using data mining analysis of terminal restriction fragment length polymorphism (T-RFLP). This study included 39 coronary artery disease (CAD) patients and 30 age- and sex- matched no-CAD controls (Ctrls) with coronary risk factors. Bacterial DNA was extracted from their fecal samples and analyzed by T-RFLP and data mining analysis using the classification and regression algorithm. Five additional CAD patients were newly recruited to confirm the reliability of this analysis. Data mining analysis could divide the composition of gut microbiota into 2 characteristic nodes. The CAD group was classified into 4 CAD pattern nodes (35/39=90%), while the Ctrl group was classified into 3 Ctrl pattern nodes (28/30=93%). Five additional CAD samples were applied to the same dividing model, which could validate the accuracy to predict the risk of CAD by data mining analysis. We could demonstrate that operational taxonomic unit 853 (OTU853), OTU657, and OTU990 were determined important both by the data mining method and by the usual statistical comparison. We classified the gut microbiota profiles in coronary artery disease patients using data mining analysis of T-RFLP data and demonstrated the possibility that gut microbiota is a diagnostic marker of suffering from CAD.'],\n",
       " ['Are gut microbiota profiles altered by irradiation?',\n",
       "  'Respiratory Disease following Viral Lung Infection Alters the Murine Gut Microbiota. Alterations in the composition of the gut microbiota have profound effects on human health. Consequently, there is great interest in identifying, characterizing, and understanding factors that initiate these changes. Despite their high prevalence, studies have only recently begun to investigate how viral lung infections have an impact on the gut microbiota. There is also considerable interest in whether the gut microbiota could be manipulated during vaccination to improve efficacy. In this highly controlled study, we aimed to establish the effect of viral lung infection on gut microbiota composition and the gut environment using mouse models of common respiratory pathogens respiratory syncytial virus (RSV) and influenza virus. This was then compared to the effect of live attenuated influenza virus (LAIV) vaccination. Both RSV and influenza virus infection resulted in significantly altered gut microbiota diversity, with an increase in Bacteroidetes and a concomitant decrease in Firmicutes phyla abundance. Although the increase in the Bacteroidetes phylum was consistent across several experiments, differences were observed at the family and operational taxonomic unit level. This suggests a change in gut conditions after viral lung infection that favors Bacteroidetes outgrowth but not individual families. No change in gut microbiota composition was observed after LAIV vaccination, suggesting that the driver of gut microbiota change is specific to live viral infection. Viral lung infections also resulted in an increase in fecal lipocalin-2, suggesting low-grade gut inflammation, and colonic Muc5ac levels. Owing to the important role that mucus plays in the gut environment, this may explain the changes in microbiota composition observed. This study demonstrates that the gut microbiota and the gut environment are altered following viral lung infections and that these changes are not observed during vaccination. Whether increased mucin levels and gut inflammation drive, or are a result of, these changes is still to be determined.'],\n",
       " ['Are gut microbiota profiles altered by irradiation?',\n",
       "  'The gut microbiota modulates glycaemic control and serum metabolite profiles in non-obese diabetic mice. Islet autoimmunity in children who later progress to type 1 diabetes is preceded by dysregulated serum metabolite profiles, but the origin of these metabolic changes is unknown. The gut microbiota affects host metabolism and changes in its composition contribute to several immune-mediated diseases; however, it is not known whether the gut microbiota is involved in the early metabolic disturbances in progression to type 1 diabetes. We rederived non-obese diabetic (NOD) mice as germ free to explore the potential role of the gut microbiota in the development of diabetic autoimmunity and to directly investigate whether the metabolic profiles associated with the development of type 1 diabetes can be modulated by the gut microbiota. The absence of a gut microbiota in NOD mice did not affect the overall diabetes incidence but resulted in increased insulitis and levels of interferon gamma and interleukin 12; these changes were counterbalanced by improved peripheral glucose metabolism. Furthermore, we observed a markedly increased variation in blood glucose levels in the absence of a microbiota in NOD mice that did not progress to diabetes. Additionally, germ-free NOD mice had a metabolite profile similar to that of pre-diabetic children. Our data suggest that germ-free NOD mice have reduced glycaemic control and dysregulated immunologic and metabolic responses.'],\n",
       " ['Are gut microbiota profiles altered by irradiation?',\n",
       "  \"The altered gut microbiota in adults with cystic fibrosis. BACKGROUND: Cystic Fibrosis (CF) is an autosomal recessive disease that affects the function of a number of organs, principally the lungs, but also the gastrointestinal tract. The manifestations of cystic fibrosis transmembrane conductance regulator (CFTR) dysfunction in the gastrointestinal tract, as well as frequent antibiotic exposure, undoubtedly disrupts the gut microbiota. To analyse the effects of CF and its management on the microbiome, we compared the gut microbiota of 43 individuals with CF during a period of stability, to that of 69 non-CF controls using 454-pyrosequencing of the 16S rRNA gene. The impact of clinical parameters, including antibiotic therapy, on the results was also assessed.RESULTS: The CF-associated microbiome had reduced microbial diversity, an increase in Firmicutes and a reduction in Bacteroidetes compared to the non-CF controls. While the greatest number of differences in taxonomic abundances of the intestinal microbiota was observed between individuals with CF and the healthy controls, gut microbiota differences were also reported between people with CF when grouped by clinical parameters including % predicted FEV1 (measure of lung dysfunction) and the number of intravenous (IV) antibiotic courses in the previous 12months. Notably, CF individuals presenting with severe lung dysfunction (% predicted FEV1\\u2009?\\u200940%) had significantly (p\\u2009<\\u20090.05) reduced gut microbiota diversity relative to those presenting with mild or moderate dysfunction. A significant negative correlation (-0.383, Simpson's Diversity Index) was also observed between the number of IV antibiotic courses and gut microbiota diversity.CONCLUSIONS: This is one of the largest single-centre studies on gut microbiota in stable adults with CF and demonstrates the significantly altered gut microbiota, including reduced microbial diversity seen in CF patients compared to healthy controls. The data show the impact that CF and it's management have on gut microbiota, presenting the opportunity to develop CF specific probiotics to minimise microbiota alterations.\"],\n",
       " ['Are gut microbiota profiles altered by irradiation?',\n",
       "  'Transplantation of fecal microbiota from patients with irritable bowel syndrome alters gut function and behavior in recipient mice. Irritable bowel syndrome (IBS) is a common disorder characterized by altered gut function and often is accompanied by comorbid anxiety. Although changes in the gut microbiota have been documented, their relevance to the clinical expression of IBS is unknown. To evaluate a functional role for commensal gut bacteria in IBS, we colonized germ-free mice with the fecal microbiota from healthy control individuals or IBS patients with diarrhea (IBS-D), with or without anxiety, and monitored gut function and behavior in the transplanted mice. Microbiota profiles in recipient mice clustered according to the microbiota profiles of the human donors. Mice receiving the IBS-D fecal microbiota showed a taxonomically similar microbial composition to that of mice receiving the healthy control fecal microbiota. However, IBS-D mice showed different serum metabolomic profiles. Mice receiving the IBS-D fecal microbiota, but not the healthy control fecal microbiota, exhibited faster gastrointestinal transit, intestinal barrier dysfunction, innate immune activation, and anxiety-like behavior. These results indicate the potential of the gut microbiota to contribute to both intestinal and behavioral manifestations of IBS-D and suggest the potential value of microbiota-directed therapies in IBS patients.'],\n",
       " ['Are gut microbiota profiles altered by irradiation?',\n",
       "  'A pilot study demonstrating the altered gut microbiota functionality in stable adults with Cystic Fibrosis. Cystic Fibrosis (CF) and its treatment result in an altered gut microbiotacomposition compared to non-CF controls. However, the impact of this on gut microbiota functionality has not been extensively characterised. Our aim was to conduct a proof-of-principle study to investigate if measurable changes in gut microbiota functionality occur in adult CF patients compared to controls. Metagenomic DNA was extracted from faecal samples from six CF patients and six non-CF controls and shotgun metagenomic sequencing was performed on the MiSeq platform. Metabolomic analysis using gas chromatography-mass spectrometry was conducted on faecal water. The gut microbiota of the CF group was significantly different compared to the non-CF controls, with significantly increased Firmicutes and decreased Bacteroidetes. Functionality was altered, with higher pathway abundances and gene families involved in lipid (e.g. PWY 6284 unsaturated fatty acid biosynthesis (p\\u2009=\\u20090.016)) and xenobiotic metabolism (e.g. PWY-5430 meta-cleavage pathway of aromatic compounds (p\\u2009=\\u20090.004)) in CF patients compared to the controls. Significant differences in metabolites occurred between the two groups. This proof-of-principle study demonstrates that measurable changes in gut microbiota functionality occur in CF patients compared to controls. Larger studies are thus needed to interrogate this further.'],\n",
       " ['Are gut microbiota profiles altered by irradiation?',\n",
       "  \"Reconstitution of the gut microbiota of antibiotic-treated patients by autologous fecal microbiota transplant. Antibiotic treatment can deplete the commensal bacteria of a patient's gut microbiota and, paradoxically, increase their risk of subsequent infections. In allogeneic hematopoietic stem cell transplantation (allo-HSCT), antibiotic administration is essential for optimal clinical outcomes but significantly disrupts intestinal microbiota diversity, leading to loss of many beneficial microbes. Although gut microbiota diversity loss during allo-HSCT is associated with increased mortality, approaches to reestablish depleted commensal bacteria have yet to be developed. We have initiated a randomized, controlled clinical trial of autologous fecal microbiota transplantation (auto-FMT) versus no intervention and have analyzed the intestinal microbiota profiles of 25 allo-HSCT patients (14 who received auto-FMT treatment and 11 control patients who did not). Changes in gut microbiota diversity and composition revealed that the auto-FMT intervention boosted microbial diversity and reestablished the intestinal microbiota composition that the patient had before antibiotic treatment and allo-HSCT. These results demonstrate the potential for fecal sample banking and posttreatment remediation of a patient's gut microbiota after microbiota-depleting antibiotic treatment during allo-HSCT.\"],\n",
       " ['Are gut microbiota profiles altered by irradiation?',\n",
       "  \"A key genetic factor for fucosyllactose utilization affects infant gut microbiota development. Recent studies have demonstrated that gut microbiota development influences infants' health and subsequent host physiology. However, the factors shaping the development of the microbiota remain poorly understood, and the mechanisms through which these factors affect gut metabolite profiles have not been extensively investigated. Here we analyse gut microbiota development of 27 infants during the first month of life. We find three distinct clusters that transition towards Bifidobacteriaceae-dominant microbiota. We observe considerable differences in human milk oligosaccharide utilization among infant bifidobacteria. Colonization of fucosyllactose (FL)-utilizing bifidobacteria is associated with altered metabolite profiles and microbiota compositions, which have been previously shown to affect infant health. Genome analysis of infants' bifidobacteria reveals an ABC transporter as a key genetic factor for FL utilization. Thus, the ability of bifidobacteria to utilize FL and the presence of FL in breast milk may affect the development of the gut microbiota in infants, and might ultimately have therapeutic implications.\"],\n",
       " ['Are gut microbiota profiles altered by irradiation?',\n",
       "  \"Multiple sclerosis patients have a distinct gut microbiota compared to healthy controls. Multiple sclerosis (MS) is an immune-mediated disease, the etiology of which involves both genetic and environmental factors. The exact nature of the environmental factors responsible for predisposition to MS remains elusive; however, it's hypothesized that gastrointestinal microbiota might play an important role in pathogenesis of MS. Therefore, this study was designed to investigate whether gut microbiota are altered in MS by comparing the fecal microbiota in relapsing remitting MS (RRMS) (n\\u2009=\\u200931) patients to that of age- and gender-matched healthy controls (n\\u2009=\\u200936). Phylotype profiles of the gut microbial populations were generated using hypervariable tag sequencing of the V3-V5 region of the 16S ribosomal RNA gene. Detailed fecal microbiome analyses revealed that MS patients had distinct microbial community profile compared to healthy controls. We observed an increased abundance of Psuedomonas, Mycoplana, Haemophilus, Blautia, and Dorea genera in MS patients, whereas control group showed increased abundance of Parabacteroides, Adlercreutzia and Prevotella genera. Thus our study is consistent with the hypothesis that MS patients have gut microbial dysbiosis and further study is needed to better understand their role in the etiopathogenesis of MS.\"],\n",
       " ['Are gut microbiota profiles altered by irradiation?',\n",
       "  'Interplay between the gut microbiota and immune responses of ayu (Plecoglossus altivelis) during Vibrio anguillarum infection. Gut microbiota plays fundamental roles in protection against pathogen invasion. However, the mechanism and extent of responses of gut microbiota to pathogenic infection are poorly understood. This study investigated the gut bacterial communities and immune responses of ayu (Plecoglossus altivelis) upon exposure to Vibrio anguillarum. The succession of V.anguillarum infection was evidenced by increased expression of immune genes and bacterial loads in ayu tissues, which in turn altered the composition and predicted functions of gut bacterial community. The dynamics of gut bacterial diversity and evenness were temporally stable in control ayu but were reduced in infected subjects, particularly at the late stages of infection. Variations in the gut microbiota were significantly associated with the expression levels of TNF- (P=0.019) and IL-1  (P=0.013). The profiles of certain gut bacterial taxa were indicative of V.anguillarum infection. Compared with healthy controls, the ayu infected with V.anguillarum possessed less complex, fewer connected, and lower cooperative gut bacterial interspecies interaction, coinciding with significant shifts in keystone species. These findings imply that V.anguillarum infection substantially disrupted the compositions and interspecies interaction of ayu gut bacterial community, thereby altering gut microbial-mediated functions and inducing host immune responses. This study provides an integrated overview on the interaction between the gut microbiota and host immune responses to pathogen infection from an ecological perspective.'],\n",
       " ['Are gut microbiota profiles altered by irradiation?',\n",
       "  'Western diet feeding influences gut microbiota profiles in apoE knockout mice. BACKGROUND: Gut microbiota plays an important role in many metabolic diseases such as diabetes and atherosclerosis. Apolipoprotein E (apoE) knock-out (KO) mice are frequently used for the study of hyperlipidemia and atherosclerosis. However, it is unknown whether apoE KO mice have altered gut microbiota when challenged with a Western diet.METHODS: In the current study, we assessed the gut microbiota profiling of apoE KO mice and compared with wild-type mice fed either a normal chow or Western diet for 12weeks using 16S pyrosequencing.RESULTS: On a western diet, the gut microbiota diversity was significantly decreased in apoE KO mice compared with wild type (WT) mice. Firmicutes and Erysipelotrichaceae were significantly increased in WT mice but Erysipelotrichaceae was unchanged in apoE KO mice on a Western diet. The weighted UniFrac principal coordinate analysis exhibited clear separation between WT and apoE KO mice on the first vector (58.6%) with significant changes of two dominant phyla (Bacteroidetes and Firmicutes) and seven dominant families (Porphyromonadaceae, Lachnospiraceae, Ruminococcaceae, Desulfovibrionaceae, Helicobacteraceae, Erysipelotrichaceae and Veillonellaceae). Lachnospiraceae was significantly enriched in apoE KO mice on a Western diet. In addition, Lachnospiraceae and Ruminococcaceae were positively correlated with relative atherosclerosis lesion size in apoE KO.CONCLUSIONS: Collectively, our study showed that there are marked changes in the gut microbiota of apoE KO mice, particularly challenged with a Western diet and these alterations may be possibly associated with atherosclerosis.'],\n",
       " ['Are gut microbiota profiles altered by irradiation?',\n",
       "  'Engineering the gut microbiota to treat hyperammonemia. Increasing evidence indicates that the gut microbiota can be altered to ameliorate or prevent disease states, and engineering the gut microbiota to therapeutically modulate host metabolism is an emerging goal of microbiome research. In the intestine, bacterial urease converts host-derived urea to ammonia and carbon dioxide, contributing to hyperammonemia-associated neurotoxicity and encephalopathy in patients with liver disease. Here, we engineered murine gut microbiota to reduce urease activity. Animals were depleted of their preexisting gut microbiota and then inoculated with altered Schaedler flora (ASF), a defined consortium of 8 bacteria with minimal urease gene content. This protocol resulted in establishment of a persistent new community that promoted a long-term reduction in fecal urease activity and ammonia production. Moreover, in a murine model of hepatic injury, ASF transplantation was associated with decreased morbidity and mortality. These results provide proof of concept that inoculation of a prepared host with a defined gut microbiota can lead to durable metabolic changes with therapeutic utility.'],\n",
       " ['Are gut microbiota profiles altered by irradiation?',\n",
       "  'Clostridial Butyrate Biosynthesis Enzymes Are Significantly Depleted in the Gut Microbiota of Nonobese Diabetic Mice. Increasing evidence suggests that the intestinal microbiota is involved in the pathogenesis of type 1 diabetes (T1D). Here we sought to determine which gut microbial taxa and functions vary between nonobese diabetic (NOD) mice and genetically modified NOD mice protected from T1D (E16/NOD) at 10\\u2009weeks of age in the time window between insulitis development and T1D onset. The gut microbiota of NOD mice were investigated by analyzing stool samples with a metaproteogenomic approach, comprising both 16S rRNA gene sequencing and microbial proteome profiling through high-resolution mass spectrometry. A depletion of Firmicutes (particularly, several members of Lachnospiraceae) in the NOD gut microbiota was observed compared to the level in the E16/NOD mice microbiota. Moreover, the analysis of proteins actively produced by the gut microbiota revealed different profiles between NOD and E16/NOD mice, with the production of butyrate biosynthesis enzymes being significantly reduced in diabetic mice. Our results support a model for gut microbiota influence on T1D development involving bacterium-produced metabolites as butyrate.IMPORTANCE Alterations of the gut microbiota early in age have been hypothesized to impact T1D autoimmune pathogenesis. In the NOD mouse model, protection from T1D has been found to operate via modulation of the composition of the intestinal microbiota during a critical early window of ontogeny, although little is known about microbiota functions related to T1D development. Here, we show which gut microbial functions are specifically associated with protection from T1D in the time window between insulitis development and T1D onset. In particular, we describe that production of butyrate biosynthesis enzymes is significantly reduced in NOD mice, supporting the hypothesis that modulating the gut microbiota butyrate production may influence T1D development.'],\n",
       " ['Are gut microbiota profiles altered by irradiation?',\n",
       "  'Gut microbiota as an epigenetic regulator: pilot study based on whole-genome methylation analysis. UNLABELLED: The core human gut microbiota contributes to the developmental origin of diseases by modifying metabolic pathways. To evaluate the predominant microbiota as an epigenetic modifier, we classified 8 pregnant women into two groups based on their dominant microbiota, i.e., Bacteroidetes, Firmicutes, and Proteobacteria. Deep sequencing of DNA methylomes revealed a clear association between bacterial predominance and epigenetic profiles. The genes with differentially methylated promoters in the group in which Firmicutes was dominant were linked to risk of disease, predominantly to cardiovascular disease and specifically to lipid metabolism, obesity, and the inflammatory response. This is one of the first studies that highlights the association of the predominant bacterial phyla in the gut with methylation patterns. Further longitudinal and in-depth studies targeting individual microbial species or metabolites are recommended to give us a deeper insight into the molecular mechanism of such epigenetic modifications.IMPORTANCE: Epigenetics encompasses genomic modifications that are due to environmental factors and do not affect the nucleotide sequence. The gut microbiota has an important role in human metabolism and could be a significant environmental factor affecting our epigenome. To investigate the association of gut microbiota with epigenetic changes, we assessed pregnant women and selected the participants based on their predominant gut microbiota for a study on their postpartum methylation profile. Intriguingly, we found that blood DNA methylation patterns were associated with gut microbiota profiles. The gut microbiota profiles, with either Firmicutes or Bacteroidetes as a dominant group, correlated with differential methylation status of gene promoters functionally associated with cardiovascular diseases. Furthermore, differential methylation of gene promoters linked to lipid metabolism and obesity was observed. For the first time, we report here a position of the predominant gut microbiota in epigenetic profiling, suggesting one potential mechanism in obesity with comorbidities, if proven in further in-depth studies.'],\n",
       " ['Are gut microbiota profiles altered by irradiation?',\n",
       "  'Impacts of Penconazole and Its Enantiomers Exposure on Gut Microbiota and Metabolic Profiles in Mice. Exposure to chiral pesticides poses many potential health risks. In this study, we examined the impacts of exposure to penconazole and its enantiomers on gut microbiota and metabolic profiles in mice. The relative abundance of microbiota in cecal content significantly changed following exposure to penconazole and its enantiomers. At the genus level, the relative abundances of seven gut microflora were altered following exposure to (-)-penconazole. Both ()-penconazole and (+)-penconazole caused significant changes in the relative abundances of five gut microflora. In addition, targeted serum metabolomics analysis showed disturbed metabolic profiles following exposure. Respectively, ()-penconazole, (+)-penconazole, and (-)-penconazole exposure significantly altered the relative levels of 29, 23, and 36 metabolites. In general, exposure to penconazole and its enantiomers caused disorders in gut microbiota and metabolic profiles of mice. The potential health risks of penconazole and its enantiomers now require further evaluation.'],\n",
       " ['Are gut microbiota profiles altered by irradiation?',\n",
       "  \"Altered gut microbiota in Rett syndrome. BACKGROUND: The human gut microbiota directly affects human health, and its alteration can lead to gastrointestinal abnormalities and inflammation. Rett syndrome (RTT), a progressive neurological disorder mainly caused by mutations in MeCP2 gene, is commonly associated with gastrointestinal dysfunctions and constipation, suggesting a link between RTT's gastrointestinal abnormalities and the gut microbiota. The aim of this study was to evaluate the bacterial and fungal gut microbiota in a cohort of RTT subjects integrating clinical, metabolomics and metagenomics data to understand if changes in the gut microbiota of RTT subjects could be associated with gastrointestinal abnormalities and inflammatory status.RESULTS: Our findings revealed the occurrence of an intestinal sub-inflammatory status in RTT subjects as measured by the elevated values of faecal calprotectin and erythrocyte sedimentation rate. We showed that, overall, RTT subjects harbour bacterial and fungal microbiota altered in terms of relative abundances from those of healthy controls, with a reduced microbial richness and dominated by microbial taxa belonging to Bifidobacterium, several Clostridia (among which Anaerostipes, Clostridium XIVa, Clostridium XIVb) as well as Erysipelotrichaceae, Actinomyces, Lactobacillus, Enterococcus, Eggerthella, Escherichia/Shigella and the fungal genus Candida. We further observed that alterations of the gut microbiota do not depend on the constipation status of RTT subjects and that this dysbiotic microbiota produced altered short chain fatty acids profiles.CONCLUSIONS: We demonstrated for the first time that RTT is associated with a dysbiosis of both the bacterial and fungal component of the gut microbiota, suggesting that impairments of MeCP2 functioning favour the establishment of a microbial community adapted to the costive gastrointestinal niche of RTT subjects. The altered production of short chain fatty acids associated with this microbiota might reinforce the constipation status of RTT subjects and contribute to RTT gastrointestinal physiopathology.\"],\n",
       " ['Are gut microbiota profiles altered by irradiation?',\n",
       "  'Gut microbial and metabolomic profiles after fecal microbiota transplantation in pediatric ulcerative colitis patients. Ulcerative colitis is a chronic inflammatory disease of the colon that carries a significant disease burden in children. Therefore, new therapeutic approaches are being explored to help children living with this disease. Fecal microbiota transplantation (FMT) has been successful in some children with ulcerative colitis. However, the mechanism of its therapeutic effect in this patient population is not well understood. To characterize changes in gut microbial and metabolomic profiles after FMT, we performed 16S rRNA gene sequencing, shotgun metagenomic sequencing, virome analysis and untargeted metabolomics by gas chromatography-time of flight-mass spectrometry on stool samples collected before and after FMT from four children with ulcerative colitis who responded to this treatment. Alpha diversity of the gut microbiota increased after intervention, with species richness rising from 251 (S.D. 125) to 358 (S.D. 27). In responders, the mean relative abundance of bacteria in the class Clostridia shifted toward donor levels, increasing from 33% (S.D. 11%) to 54% (S.D. 16%). Patient metabolomic and viromic profiles exhibited a similar but less pronounced shift toward donor profiles after FMT. The fecal concentrations of several metabolites were altered after FMT, correlating with clinical improvement. Larger studies using a similar multi-omics approach may suggest novel strategies for the treatment of pediatric ulcerative colitis.'],\n",
       " ['Are gut microbiota profiles altered by irradiation?',\n",
       "  \"Gut Microbiota is Altered in Patients with Alzheimer's Disease. Previous studies suggest that gut microbiota is associated with neuropsychiatric disorders, such as Parkinson's disease, amyotrophic lateral sclerosis, and depression. However, whether the composition and diversity of gut microbiota is altered in patients with Alzheimer's disease (AD) remains largely unknown. In the present study, we collected fecal samples from 43 AD patients and 43 age- and gender-matched cognitively normal controls. 16S ribosomal RNA sequencing technique was used to analyze the microbiota composition in feces. The composition of gut microbiota was different between the two groups. Several bacteria taxa in AD patients were different from those in controls at taxonomic levels, such as Bacteroides, Actinobacteria, Ruminococcus, Lachnospiraceae, and Selenomonadales. Our findings suggest that gut microbiota is altered in AD patients and may be involved in the pathogenesis of AD.\"],\n",
       " ['Are gut microbiota profiles altered by irradiation?',\n",
       "  'Gut microbiota can transfer fiber characteristics and lipid metabolic profiles of skeletal muscle from pigs to germ-free mice. Obesity causes changes in microbiota composition, and an altered gut microbiota can transfer obesity-associated phenotypes from donors to recipients. Obese Rongchang pigs (RP) exhibited distinct fiber characteristics and lipid metabolic profiles in their muscle compared with lean Yorkshire pigs (YP). However, whether RP have a different gut microbiota than YP and whether there is a relationship between the microbiota and muscle properties are poorly understood. The present study was conducted to test whether the muscle properties can be transferred from pigs to germ-free (GF) mice. High-throughput pyrosequencing confirms the presence of distinct core microbiota between pig breeds, with alterations in taxonomic distribution and modulations in  diversity. RP displayed a significant higher Firmicutes/Bacteroidetes ratio and apparent genera differences compared with YP. Transplanting the porcine microbiota into GF mice replicated the phenotypes of the donors. RP and their GF mouse recipients exhibited a higher body fat mass, a higher slow-contracting fiber proportion, a decreased fiber size and fast IIb fiber percentage, and enhanced lipogenesis in the gastrocnemius muscle. Furthermore, the gut microbiota composition of colonized mice shared high similarity with their donor pigs. Taken together, the gut microbiota of obese pigs intrinsically influences skeletal muscle development and the lipid metabolic profiles.'],\n",
       " ['Are gut microbiota profiles altered by irradiation?',\n",
       "  '[Irritable Bowel Syndrome, Emotion Regulation, and Gut Microbiota]. Irritable bowel syndrome (IBS) is defined as a representative functional gastrointestinal disorder which is characterized by chronic or recurrent abdominal pain and/or abdominal discomfort associated with abnormal bowel movement. Gut microbiota are related to the pathophysiology of IBS. In the field of IBS, post-infectious etiology, stress-induced alteration of microbiota, increased mucosal permeability, bacterial overgrowth, disease-specific microbiota, microbial products, and brain-gut interactions are being investigated. In some individuals, IBS develops after recovery from acute gastroenteritis known as post-infectious IBS. Gut microbiota in IBS patients differ from those in healthy individuals, and the profiles of gut microbiota in IBS patients also vary among IBS patients with constipation, diarrhea, and mixed subtypes. In Japan, gut microbiota in IBS patients also differ from those observed in healthy individuals, and organic acid by-products observed in the patients correlated with symptoms, quality of life, and alexithymia. Further research on gut microbiota in IBS patients is warranted.'],\n",
       " ['Are gut microbiota profiles altered by irradiation?',\n",
       "  'Distinctly altered gut microbiota in the progression of liver disease. Recent studies underscore important roles of intestinal microbiota and the bacterial lipopolysaccharides (LPS) production in the pathogenesis of liver disease. However, how gut microbiota alters in response to the development of steatosis and subsequent progression to nonalcoholic steatohepatitis (NASH) and hepatocellular carcinoma (HCC) remains unclear. We aimed to study the gut microbial changes over liver disease progression using a streptozotocin-high fat diet (STZ-HFD) induced NASH-HCC C57BL/6J mouse model that is highly relevant to human liver disease. The fecal microbiota at various liver pathological stages was analyzed by 16S rDNA gene pyrosequencing. Both UniFrac analysis and partial least squares-discriminant analysis showed significant structural alterations in gut microbiota during the development of liver disease. Co-abundance network analysis highlighted relationships between genera. Spearman correlation analysis revealed that the bacterial species, Atopobium spp., Bacteroides spp., Bacteroides vulgatus, Bacteroides acidifaciens, Bacteroides uniformis, Clostridium cocleatum, Clostridium xylanolyticum and Desulfovibrio spp., markedly increased in model mice, were positively correlated with LPS levels and pathophysiological features. Taken together, the results showed that the gut microbiota was altered significantly in the progression of liver disease. The connection between the gut microbial ecology and the liver pathology may represent potential targets for the prevention and treatment of chronic liver disease and HCC.'],\n",
       " ['Are gut microbiota profiles altered by irradiation?',\n",
       "  'Chronic Sleep Disruption Alters Gut Microbiota, Induces Systemic and Adipose Tissue Inflammation and Insulin Resistance in Mice. Chronic sleep fragmentation (SF) commonly occurs in human populations, and although it does not involve circadian shifts or sleep deprivation, it markedly alters feeding behaviors ultimately promoting obesity and insulin resistance. These symptoms are known to be related to the host gut microbiota. Mice were exposed to SF for 4 weeks and then allowed to recover for 2 weeks. Taxonomic profiles of fecal microbiota were obtained prospectively, and conventionalization experiments were performed in germ-free mice. Adipose tissue insulin sensitivity and inflammation, as well as circulating measures of inflammation, were assayed. Effect of fecal water on colonic epithelial permeability was also examined. Chronic SF-induced increased food intake and reversible gut microbiota changes characterized by the preferential growth of highly fermentative members of Lachnospiraceae and Ruminococcaceae and a decrease of Lactobacillaceae families. These lead to systemic and visceral white adipose tissue inflammation in addition to altered insulin sensitivity in mice, most likely via enhanced colonic epithelium barrier disruption. Conventionalization of germ-free mice with SF-derived microbiota confirmed these findings. Thus, SF-induced metabolic alterations may be mediated, in part, by concurrent changes in gut microbiota, thereby opening the way for gut microbiome-targeted therapeutics aimed at reducing the major end-organ morbidities of chronic SF.'],\n",
       " ['Are gut microbiota profiles altered by irradiation?',\n",
       "  'Gut microbiota translocation promotes autoimmune cholangitis. Gut microbiota and bacterial translocation have been implicated as significant contributors to mucosal immune responses and tolerance; alteration of microbial molecules, termed pathogen-associated molecular patterns (PAMP) and bacterial translocation are associated with immune pathology. However, the mechanisms by which dysregulated gut microbiota promotes autoimmunity is unclear. We have taken advantage of a well-characterized murine model of primary biliary cholangitis, dnTGFRII mice, and an additional unique construct, toll-like receptor 2 (TLR2)-deficient dnTGFRII mice coined dnTGFRIITLR2-/- mice to investigate the influences of gut microbiota on autoimmune cholangitis. Firstly, we report that dnTGFRII mice manifest altered composition of gut microbiota and that alteration of this gut microbiota by administration of antibiotics significantly alleviates T-cell-mediated infiltration and bile duct damage. Second, toll-like receptor 2 (TLR2)-deficient dnTGFRII mice demonstrate significant exacerbation of autoimmune cholangitis when their epithelial barrier integrity was disrupted. Further, TLR2-deficiency mediates downregulated expression of tight junction-associated protein ZO-1 leading to increased gut permeability and bacterial translocation from gut to liver; use of antibiotics reduces microbiota translocation to liver and also decreases biliary pathology. In conclusion, our data demonstrates the important role of gut microbiota and bacterial translocation in the pathogenesis of murine autoimmune cholangitis.'],\n",
       " ['Are gut microbiota profiles altered by irradiation?',\n",
       "  'Pediatric obesity is associated with an altered gut microbiota and discordant shifts in Firmicutes populations. An altered gut microbiota has been linked to obesity in adulthood, although little is known about childhood obesity. The aim of this study was to characterize the composition of the gut microbiota in obese (n\\u2009=\\u200942) and normal-weight (n\\u2009=\\u200936) children aged 6 to 16. Using 16S rRNA gene-targeted sequencing, we evaluated taxa with differential abundance according to age- and sex-normalized body mass index (BMI z-score). Obesity was associated with an altered gut microbiota characterized by elevated levels of Firmicutes and depleted levels of Bacteroidetes. Correlation network analysis revealed that the gut microbiota of obese children also had increased correlation density and clustering of operational taxonomic units (OTUs). Members of the Bacteroidetes were generally better predictors of BMI z-score and obesity than Firmicutes, which was likely due to discordant responses of Firmicutes OTUs. In accordance with these observations, the main metabolites produced by gut bacteria, short chain fatty acids (SCFAs), were higher in obese children, suggesting elevated substrate utilisation. Multiple taxa were correlated with SCFA levels, reinforcing the tight link between the microbiota, SCFAs and obesity. Our results suggest that gut microbiota dysbiosis and elevated fermentation activity may be involved in the etiology of childhood obesity.'],\n",
       " ['Are gut microbiota profiles altered by irradiation?',\n",
       "  'The influence of rosuvastatin on the gastrointestinal microbiota and host gene expression profiles. Statins are the most widely prescribed medications worldwide for the treatment of hypercholesterolemia. They inhibit the activity of 3-hydroxy-3-methylglutaryl coenzyme A reductase (HMG-R), an enzyme involved in cholesterol synthesis in higher organisms and in isoprenoid biosynthesis in some bacteria. We hypothesized that statins may influence the microbial community in the gut through either direct inhibition or indirect mechanisms involving alterations to host responses. We therefore examined the impact of rosuvastatin (RSV) on the community structure of the murine gastrointestinal microbiota. RSV was orally administered to mice and the effects on the gut microbiota, host bile acid profiles, and markers of inflammation were analyzed. RSV significantly influenced the microbial community in both the cecum and feces, causing a significant decrease in -diversity in the cecum and resulting in a reduction of several physiologically relevant bacterial groups. RSV treatment of mice significantly affected bile acid metabolism and impacted expression of inflammatory markers known to influence microbial community structure (including RegIII and Camp) in the gut. This study suggests that a commonly used statin (RSV) leads to an altered gut microbial composition in normal mice with attendant impacts on local gene expression profiles, a finding that should prompt further studies to investigate the implications of statins for gut microbiota stability and health in humans.NEW & NOTEWORTHY This work demonstrates that rosuvastatin administration in mice affects the gastrointestinal microbiota, influences bile acid metabolism, and alters transcription of genes encoding factors involved in gut homeostasis and immunity in the gastrointestinal tract.'],\n",
       " ['Are gut microbiota profiles altered by irradiation?',\n",
       "  'Duodenal-Jejunal Bypass Preferentially Elevates Serum Taurine-Conjugated Bile Acids and Alters Gut Microbiota in a Diabetic Rat Model. BACKGROUND: Bile acids (BAs) have emerged as important signaling molecules in regulating metabolism and are closely related to gut microbiota. Bariatric surgery elevates serum BAs and affects gut microbiota universally. However, the specific profiles of postsurgical BA components and gut microbiota are still controversial. The aim of this study is to investigate the serum profiles of BA components and gut microbiota after duodenal-jejunal bypass (DJB).METHOD: DJB and SHAM procedures were performed in a high-fat-diet/streptozotocin-induced diabetic rat model. Body weight, energy intake, oral glucose tolerance test, insulin tolerance test, HOMA-IR, serum hormones, serum BAs, expression of BA transporters, and gut microbiota were analyzed at week 2 and week 12 postsurgery.RESULTS: Compared with SHAM, DJB achieved rapid and durable improvement in glucose tolerance and insulin sensitivity, with enhanced GLP-1 secretion. DJB also elevated serum BAs, especially the taurine-conjugated BAs, with upregulation of BA transporters in the terminal ileum. The phylum level of Firmicutes and Proteobacteria abundance was increased postsurgery, at the expense of Bacteroidetes.CONCLUSION: DJB preferentially increases serum taurine-conjugated BAs, probably because of more BA reabsorption in the terminal ileum. The gut microbiota is altered with more Firmicutes and Proteobacteria and less Bacteroidetes.'],\n",
       " ['Are gut microbiota profiles altered by irradiation?',\n",
       "  'Alterations in the Vaginal Microbiome by Maternal Stress Are Associated With Metabolic Reprogramming of the Offspring Gut and Brain. The neonate is exposed to the maternal vaginal microbiota during parturition, providing the primary source for normal gut colonization, host immune maturation, and metabolism. These early interactions between the host and microbiota occur during a critical window of neurodevelopment, suggesting early life as an important period of cross talk between the developing gut and brain. Because perturbations in the prenatal environment such as maternal stress increase neurodevelopmental disease risk, disruptions to the vaginal ecosystem could be a contributing factor in significant and long-term consequences for the offspring. Therefore, to examine the hypothesis that changes in the vaginal microbiome are associated with effects on the offspring gut microbiota and on the developing brain, we used genomic, proteomic and metabolomic technologies to examine outcomes in our mouse model of early prenatal stress. Multivariate modeling identified broad proteomic changes to the maternal vaginal environment that influence offspring microbiota composition and metabolic processes essential for normal neurodevelopment. Maternal stress altered proteins related to vaginal immunity and abundance of Lactobacillus, the prominent taxa in the maternal vagina. Loss of maternal vaginal Lactobacillus resulted in decreased transmission of this bacterium to offspring. Further, altered microbiota composition in the neonate gut corresponded with changes in metabolite profiles involved in energy balance, and with region- and sex-specific disruptions of amino acid profiles in the developing brain. Taken together, these results identify the vaginal microbiota as a novel factor by which maternal stress may contribute to reprogramming of the developing brain that may predispose individuals to neurodevelopmental disorders.'],\n",
       " ['Are gut microbiota profiles altered by irradiation?',\n",
       "  'Antioxidant Drug Tempol Promotes Functional Metabolic Changes in the Gut Microbiota. Recent studies have identified the important role of the gut microbiota in the pathogenesis and progression of obesity and related metabolic disorders. The antioxidant tempol was shown to prevent or reduce weight gain and modulate the gut microbiota community in mice; however, the mechanism by which tempol modulates weight gain/loss with respect to the host and gut microbiota has not been clearly established. Here we show that tempol (0, 1, 10, and 50 mg/kg p.o. for 5 days) decreased cecal bacterial fermentation and increased fecal energy excretion in a dose-dependent manner. Liver (1)H NMR-based metabolomics identified a dose-dependent decrease in glycogen and glucose, enhanced glucogenic and ketogenic activity (tyrosine and phenylalanine), and increased activation of the glycolysis pathway. Serum (1)H NMR-based metabolomics indicated that tempol promotes enhanced glucose catabolism. Hepatic gene expression was significantly altered as demonstrated by an increase in Pepck and G6pase and a decrease in Hnf4a, ChREBP, Fabp1, and Cd36 mRNAs. No significant change in the liver and serum metabolomic profiles was observed in germ-free mice, thus establishing a significant role for the gut microbiota in mediating the beneficial metabolic effects of tempol. These results demonstrate that tempol modulates the gut microbial community and its function, resulting in reduced host energy availability and a significant shift in liver metabolism toward a more catabolic state.'],\n",
       " ['Are gut microbiota profiles altered by irradiation?',\n",
       "  'Modulation of the gut microbiota by metformin improves metabolic profiles in aged obese mice. The gut microbiota is a contributing factor in obesity-related metabolic disorders. The effect of metformin on the gut microbiota has been reported; however, the relationship between the gut microbiota and the mechanism of action of metformin in elderly individuals is unclear. In this study, the effect of metformin on the gut microbiota was investigated in aged obese mice. The abundance of the genera Akkermansia, Bacteroides, Butyricimonas, and Parabacteroides was significantly increased by metformin in mice fed a high-fat diet. Metformin treatment decreased the expression of IL-1 and IL-6 in epididymal fat, which was correlated with the abundance of various bacterial genera. In addition, both fecal microbiota transplantation from metformin-treated mice and extracellular vesicles of Akkermansia muciniphila improved the body weight and lipid profiles of the mice. Our findings suggest that modulation of the gut microbiota by metformin results in metabolic improvements in aged mice, and that these effects are associated with inflammatory immune responses.'],\n",
       " ['Are gut microbiota profiles altered by irradiation?',\n",
       "  'Gut microbiota-mediated drug interactions between lovastatin and antibiotics. Orally administered drugs may be metabolized by intestinal microbial enzymes before absorption into the blood. Accordingly, coadministration of drugs affecting the metabolic activities of gut microbes (e.g., antibiotics) may lead to drug-drug interactions (DDI). In this study, gut microbiota-mediated DDI were investigated by studying the pharmacokinetics of lovastatin in antibiotic-treated rats. Incubation of lovastatin with human and rat fecalase preparations produced four metabolites, M1 (demethylbutyryl metabolite), M4 (hydroxylated metabolite), M8 (the active hydroxy acid metabolite), and M9 (hydroxylated M8), indicating involvement of the gut microbiota in lovastatin metabolism. The plasma concentration-time profiles of M8 were compared after oral administration of lovastatin to control rats or those treated with either ampicillin (100 mg/kg) or an antibiotic mixture consisting of cefadroxil (150 mg/kg), oxytetracycline (300 mg/kg), and erythromycin (300 mg/kg). Pharmacokinetic analyses indicated that systemic exposure to M8 was significantly lower in antibiotic-treated rats compared with controls. In addition, fecal M8 formation decreased by 58.3 and 59.9% in the ampicillin- and antibiotic mixture-treated rats, respectively. These results suggested that antibiotic intake may reduce the biotransformation of orally administered drugs by gut microbiota and that the subsequent impact on microbiota metabolism could result in altered systemic concentrations of either the intact drug and/or its metabolite(s).'],\n",
       " ['Are gut microbiota profiles altered by irradiation?',\n",
       "  'Prevention of Diet-Induced Obesity Effects on Body Weight and Gut Microbiota in Mice Treated Chronically with 9-Tetrahydrocannabinol. OBJECTIVE: Acute administration of cannabinoid CB1 receptor agonists, or the ingestion of cannabis, induces short-term hyperphagia. However, the incidence of obesity is lower in frequent cannabis users compared to non-users. Gut microbiota affects host metabolism and altered microbial profiles are observed in obese states. Gut microbiota modifies adipogenesis through actions on the endocannabinoid system. This study investigated the effect of chronic THC administration on body weight and gut microbiota in diet-induced obese (DIO) and lean mice.METHODS: Adult male DIO and lean mice were treated daily with vehicle or THC (2mg/kg for 3 weeks and 4 mg/kg for 1 additional week). Body weight, fat mass, energy intake, locomotor activity, whole gut transit and gut microbiota were measured longitudinally.RESULTS: THC reduced weight gain, fat mass gain and energy intake in DIO but not lean mice. DIO-induced changes in select gut microbiota were prevented in mice chronically administered THC. THC had no effect on locomotor activity or whole gut transit in either lean or DIO mice.CONCLUSIONS: Chronic THC treatment reduced energy intake and prevented high fat diet-induced increases in body weight and adiposity; effects that were unlikely to be a result of sedation or altered gastrointestinal transit. Changes in gut microbiota potentially contribute to chronic THC-induced actions on body weight in obesity.'],\n",
       " ['Are gut microbiota profiles altered by irradiation?',\n",
       "  'Gut microbiota mediates the anti-obesity effect of calorie restriction in mice. Calorie restriction (CR) extends lifespan and elicits numerous effects beneficial to health and metabolism in various model organisms, but the underlying mechanisms are not completely understood. Gut microbiota has been reported to be associated with the beneficial effects of CR; however, it is unknown whether these effects of CR are causally mediated by gut microbiota. In this study, we employed an antibiotic-induced microbiota-depleted mouse model to investigate the functional role of gut microbiota in CR. Depletion of gut microbiota rendered mice resistant to CR-induced loss of body weight, accompanied bythe increase in fat mass,the reduction in lean mass andthe decline in metabolic rate. Depletion of gut microbiota led to increases in fasting blood glucose and cholesterol levels independent of CR. A few metabolism-modulating hormones including leptin and insulin were altered by CR and/or gut microbiota depletion. In addition, CR altered the composition of gut microbiota with significant increases in major probiotic genera such as Lactobacillus and Bifidobacterium, together withthe decrease of Helicobacter. In addition, we performed fecal microbiota transplantation in mice fed with high-fat diet. Mice with transferred microbiota from calorie-restricted mice resisted high fat diet-induced obesity and exhibited metabolic improvement such as alleviated hepatic lipid accumulation. Collectively, these data indicate that CR-induced metabolic improvement especially in body weight reduction is mediated by intestinal microbiota to a certain extent.'],\n",
       " ['Are gut microbiota profiles altered by irradiation?',\n",
       "  'Dietary magnesium deficiency affects gut microbiota and anxiety-like behaviour in C57BL/6N mice. OBJECTIVE: Magnesium deficiency has been associated with anxiety in humans, and rodent studies have demonstrated the gut microbiota to impact behaviour.METHODS: We investigated the impact of 6 weeks of dietary magnesium deficiency on gut microbiota composition and anxiety-like behaviour and whether there was a link between the two. A total of 20 C57BL/6 mice, fed either a standard diet or a magnesium-deficient diet for 6 weeks, were tested using the light-dark box anxiety test. Gut microbiota composition was analysed by denaturation gradient gel electrophoresis.RESULTS: We demonstrated that the gut microbiota composition correlated significantly with the behaviour of dietary unchallenged mice. A magnesium-deficient diet altered the gut microbiota, and was associated with altered anxiety-like behaviour, measured by decreased latency to enter the light box.CONCLUSION: Magnesium deficiency altered behavior. The duration of magnesium deficiency is suggested to influence behaviour in the evaluated test.'],\n",
       " ['Are gut microbiota profiles altered by irradiation?',\n",
       "  'Perinatal factors affect the gut microbiota up to four years after birth. Perinatal factors impact gut microbiota development in early life, however, little is known on the effects of these factors on microbes in later life. Here we sequence DNA from faecal samples of children over the first four years and reveal a perpetual evolution of the gut microbiota during this period. The significant impact of gestational age at birth and delivery mode on gut microbiota progression is evident in the first four years of life, while no measurable effects of antibiotics are found in the first year. Microbiota profiles are also characteristic in children dependant on gestational age and maturity. Full term delivery is characterised by Bacteroides (year one), Parabacteroides (year two) and Christensenellaceae(year four). Preterm delivery is characterised by Lactobacillus (year one), Streptococcus (year two) and Carnobacterium (year four). This study reveals that the gut retains distinct microbial profiles of perinatal factors up to four years of age.'],\n",
       " ['Are gut microbiota profiles altered by irradiation?',\n",
       "  'Fecal menaquinone profiles of overweight adults are associated with gut microbiota composition during a gut microbiota-targeted dietary intervention. BACKGROUND: Emerging evidence supports novel roles for vitamin K in cardiometabolic health, some of which may be unique to the bacterially synthesized vitamin K forms known as menaquinones. However, factors influencing menaquinone biosynthesis by the gut microbiota and associations with cardiometabolic health have not been examined.OBJECTIVE: The objective of this study was to identify associations between fecal menaquinone profiles, gut microbiota composition, and biomarkers of cardiometabolic health.DESIGN: The menaquinone profile and gut microbiota structure were periodically measured in fecal samples collected from 77 overweight Chinese adults who consumed a prescribed diet previously shown to alter gut microbiota composition and to improve cardiometabolic biomarkers.RESULTS: Covariance among menaquinones within individual fecal samples partitioned individuals into 2 distinct groups, herein introduced as menaquinotypes of the human gut. Menaquinotypes were characterized by differences in menaquinone (MK) 5 and MK9-MK13 and differences in the relative abundance of several operational taxonomic units (OTUs) delineated at the species level, predominantly within the genera Prevotella spp. and Bacteroides spp. Fecal MK4, MK6, and MK8 decreased during the intervention (P < 0.05); and longitudinal changes in the relative abundance of >100 OTUs were associated with altered fecal content of ?1 individual menaquinone. The strongest and most consistent relations were between Prevotella spp. and MK5 and MK11-MK13, between Bacteroides spp. and MK9 and MK10, and between Escherichia/Shigella spp. and MK8. Neither individual menaquinones nor menaquinotypes were longitudinally associated with markers of glycemia, insulin resistance, or inflammation.CONCLUSIONS: These findings suggest that variability in fecal menaquinone content is predominantly determined by relatively few genera within the gut microbiota and that diet-mediated alterations in gut microbiota composition may provide a feasible approach for altering gut menaquinone content. This trial was registered at the Chinese Clinical Trials Registry as ChiCTR-TRC-09000353.'],\n",
       " ['Are gut microbiota profiles altered by irradiation?',\n",
       "  'Antibiotics may increase triazine herbicide exposure risk via disturbing gut microbiota. BACKGROUND: Antibiotics are commonly used worldwide, and pesticide is a kind of xenobiotic to which humans are frequently exposed. The interactive impact of antibiotics on pesticides has rarely been studied. We aim to investigate the effects of antibiotics on the pesticide exposure risk and whether gut microbiota altered by antibiotics has an influence on pesticide bioavailability. Furthermore, we explored the mechanisms of gut microbiota affecting the fate of pesticides in the host.RESULTS: The oral bioavailability of triazine herbicides significantly increased in the rats treated with ampicillin or antibiotic cocktails. The antibiotic-altered gut microbiota directly influenced the increased pesticide bioavailability through downregulating hepatic metabolic enzyme gene expression and upregulating intestinal absorption-related proteins.CONCLUSIONS: Antibiotics could increase the pesticide bioavailability and thereby may increase the pesticide exposure risk. The antibiotic-altered gut microbiota that could alter the hepatic metabolic enzyme gene expression and intestinal absorption-related proteome was a critical cause of the increased bioavailability. This study revealed an undiscovered potential health impact of antibiotics and reminded people to consider the co-exposed xenobiotics when taking antibiotics.'],\n",
       " ['Are gut microbiota profiles altered by irradiation?',\n",
       "  'Saccharin induced liver inflammation in mice by altering the gut microbiota and its metabolic functions. Maintaining the balance of the gut microbiota and its metabolic functions is vital for human health, however, this balance can be disrupted by various external factors including food additives. A range of food and beverages are sweetened by saccharin, which is generally considered to be safe despite controversial debates. However, recent studies indicated that saccharin perturbed the gut microbiota. Inflammation is frequently associated with disruptions of the gut microbiota. The aim of this study is to investigate the relationship between host inflammation and perturbed gut microbiome by saccharin. C57BL/6J male mice were treated with saccharin in drinking water for six months. Q-PCR was used to detect inflammatory markers in mouse liver, while 16S rRNA gene sequencing and metabolomics were used to reveal changes of the gut microbiota and its metabolomic profiles. Elevated expression of pro-inflammatory iNOS and TNF- in liver indicated that saccharin induced inflammation in mice. The altered gut bacterial genera, enriched orthologs of pathogen-associated molecular patterns, such as LPS and bacterial toxins, in concert with increased pro-inflammatory metabolites suggested that the saccharin-induced liver inflammation could be associated with the perturbation of the gut microbiota and its metabolic functions.'],\n",
       " ['Are gut microbiota profiles altered by irradiation?',\n",
       "  'Lingonberries reduce atherosclerosis in Apoe(-/-) mice in association with altered gut microbiota composition and improved lipid profile. SCOPE: To investigate the efficacy of lingonberries in prevention of atherosclerosis, using atherosclerosis-prone Apoe(-/-) mice and to clarify whether effects were associated with changes in the gut microbiota, gut metabolites, and lipid metabolism.METHODS AND RESULTS: Male Apoe(-/-) mice were fed either low-fat diet, high-fat diet, or high-fat diet with 44% lingonberries for 8 weeks. Blood lipid profiles, hepatic gene expression, atherosclerotic plaques in the aortic root region of the heart, bacterial 16S rRNA gene profiles, and cecal short-chain fatty acids (SCFAs) were analyzed. Triglyceride levels and amount of atherosclerotic plaques decreased in the group fed lingonberries in comparison to the high-fat group. Hepatic expression of the bile acid synthesis gene Cyp7a1 was significantly upregulated in the lingonberry group. Lingonberries increased the cecal relative abundance of bacterial genera Bacteroides, Parabacteroides and Clostridium. The cecal levels of total SCFAs were significantly lower in the lingonberry group, while the cecal proportion of propionic acid was higher in mice fed lingonberries.CONCLUSION: Intake of lingonberries resulted in decreased triglyceridemia and reduced atherosclerosis. The altered gut microbiota composition and SCFA profile was associated with increased hepatic bile acid gene expression in mice fed lingonberries.']]"
      ]
     },
     "execution_count": 21,
     "metadata": {},
     "output_type": "execute_result"
    }
   ],
   "source": [
    "[sentence_pairs[s] for s in scores_sorted]"
   ]
  },
  {
   "cell_type": "code",
   "execution_count": 48,
   "id": "9b61cb1d",
   "metadata": {},
   "outputs": [],
   "source": [
    "model.to(device)\n",
    "model_input = torch.tensor(context_enc+continuation_enc[:-1]).to(device)"
   ]
  }
 ],
 "metadata": {
  "kernelspec": {
   "display_name": "Python 3 (ipykernel)",
   "language": "python",
   "name": "python3"
  },
  "language_info": {
   "codemirror_mode": {
    "name": "ipython",
    "version": 3
   },
   "file_extension": ".py",
   "mimetype": "text/x-python",
   "name": "python",
   "nbconvert_exporter": "python",
   "pygments_lexer": "ipython3",
   "version": "3.9.7"
  },
  "toc": {
   "base_numbering": 1,
   "nav_menu": {},
   "number_sections": true,
   "sideBar": true,
   "skip_h1_title": false,
   "title_cell": "Table of Contents",
   "title_sidebar": "Contents",
   "toc_cell": false,
   "toc_position": {},
   "toc_section_display": true,
   "toc_window_display": false
  }
 },
 "nbformat": 4,
 "nbformat_minor": 5
}
