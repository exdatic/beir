{
 "cells": [
  {
   "cell_type": "code",
   "execution_count": 3,
   "id": "0fcafb44",
   "metadata": {},
   "outputs": [],
   "source": [
    "import os\n",
    "data_dir = os.path.expanduser(\"~/Google Drive/Shared drives/Data\")\n",
    "data_path = f'{data_dir}/BEIR/bioasq'"
   ]
  },
  {
   "cell_type": "code",
   "execution_count": 4,
   "id": "ace5b52c",
   "metadata": {},
   "outputs": [],
   "source": [
    "from vectorspace.utils import jsonl_load, json_load\n",
    "corpus = json_load(f\"{data_path}/reduced_corpus.json\")\n",
    "sentences = ['\\n'.join([doc[\"title\"], doc[\"text\"]]).strip() if doc.get(\"title\") else doc[\"text\"].strip()\n",
    "            for doc in corpus.values()]"
   ]
  },
  {
   "cell_type": "code",
   "execution_count": 5,
   "id": "1948b359",
   "metadata": {},
   "outputs": [
    {
     "name": "stderr",
     "output_type": "stream",
     "text": [
      "/opt/homebrew/anaconda3/lib/python3.9/site-packages/beir/datasets/data_loader.py:2: TqdmExperimentalWarning: Using `tqdm.autonotebook.tqdm` in notebook mode. Use `tqdm.tqdm` instead to force console mode (e.g. in jupyter console)\n",
      "  from tqdm.autonotebook import tqdm\n"
     ]
    },
    {
     "data": {
      "application/vnd.jupyter.widget-view+json": {
       "model_id": "42b57bb0adc049f98977a69398c43944",
       "version_major": 2,
       "version_minor": 0
      },
      "text/plain": [
       "  0%|          | 0/1 [00:00<?, ?it/s]"
      ]
     },
     "metadata": {},
     "output_type": "display_data"
    }
   ],
   "source": [
    "from beir.datasets.data_loader import GenericDataLoader\n",
    "results = json_load(f\"{data_dir}/BEIR/results_bioasq_bm25.json\")\n",
    "_, queries, qrels = GenericDataLoader(data_path).load(split=\"test\")"
   ]
  },
  {
   "cell_type": "code",
   "execution_count": 6,
   "id": "c71f431f",
   "metadata": {},
   "outputs": [],
   "source": [
    "from vectorspace.embedding import Embedding"
   ]
  },
  {
   "cell_type": "code",
   "execution_count": 31,
   "id": "f44a45ed",
   "metadata": {},
   "outputs": [],
   "source": [
    "paths = [f\"{data_path}/instructor_large_reduced_corpus_{start}-{start+10000}\" for start in range(0, 380000, 10000)]\n",
    "embs = [Embedding.load(p) for p in paths]\n",
    "vecs = np.concatenate([emb.vecs for emb in embs])"
   ]
  },
  {
   "cell_type": "code",
   "execution_count": 55,
   "id": "6c6cd69d",
   "metadata": {},
   "outputs": [],
   "source": [
    "words = [w for emb in embs for w in list(emb.words)]"
   ]
  },
  {
   "cell_type": "code",
   "execution_count": 67,
   "id": "60f12a81",
   "metadata": {},
   "outputs": [],
   "source": [
    "corpus_emb = Embedding.create(vecs, words)"
   ]
  },
  {
   "cell_type": "code",
   "execution_count": 73,
   "id": "a57a7abe",
   "metadata": {},
   "outputs": [],
   "source": [
    "corpus_emb.dump(f\"{data_path}/instructor_large_reduced_corpus\")"
   ]
  },
  {
   "cell_type": "code",
   "execution_count": 68,
   "id": "c1549e01",
   "metadata": {
    "scrolled": false
   },
   "outputs": [],
   "source": [
    "#sims = corpus_emb.knn('29434076')\n",
    "#print(corpus['29434076'])\n",
    "#print()\n",
    "#for d in sims[0]:\n",
    "#    print(corpus[d])"
   ]
  },
  {
   "cell_type": "code",
   "execution_count": 69,
   "id": "3bc5f73d",
   "metadata": {
    "scrolled": true
   },
   "outputs": [],
   "source": [
    "#!git clone https://github.com/HKUNLP/instructor-embedding\n",
    "#!pip install instructor-embedding/sentence-transformers"
   ]
  },
  {
   "cell_type": "code",
   "execution_count": 64,
   "id": "f701ff63",
   "metadata": {},
   "outputs": [
    {
     "name": "stdout",
     "output_type": "stream",
     "text": [
      "max_seq_length  512\n"
     ]
    }
   ],
   "source": [
    "from sentence_transformers import SentenceTransformer\n",
    "model = SentenceTransformer('hkunlp/instructor-large')"
   ]
  },
  {
   "cell_type": "code",
   "execution_count": 65,
   "id": "b9c8112f",
   "metadata": {},
   "outputs": [],
   "source": [
    "prompt = \"Represent the Science question for retrieving supporting paragraphs; Input: \""
   ]
  },
  {
   "cell_type": "code",
   "execution_count": 71,
   "id": "95583658",
   "metadata": {},
   "outputs": [],
   "source": [
    "from sentence_transformers import util"
   ]
  },
  {
   "cell_type": "code",
   "execution_count": null,
   "id": "da89c43d",
   "metadata": {},
   "outputs": [],
   "source": [
    "results_rerank = {query_id: {} for query_id in results}\n",
    "for query_id, doc_ids in results.items():\n",
    "    q = queries[query_id] \n",
    "    query_vec = model.encode([prompt, q, 0])[0]\n",
    "    doc_ids = list(results[query_id].keys())\n",
    "    doc_vecs = corpus_emb[doc_ids[:1000]]\n",
    "    query_vec = model.encode([queries[query_id]])[0]\n",
    "    scores = util.cos_sim(query_vec, doc_vecs)[0]\n",
    "    for doc_id, score in zip(doc_ids, scores):\n",
    "        results_rerank[query_id][doc_id] = float(score)"
   ]
  },
  {
   "cell_type": "code",
   "execution_count": null,
   "id": "09aa10c8",
   "metadata": {},
   "outputs": [],
   "source": [
    "results_rerank['5e29fb27aa19d74431000005']"
   ]
  },
  {
   "cell_type": "code",
   "execution_count": null,
   "id": "e277f486",
   "metadata": {},
   "outputs": [],
   "source": [
    "from beir.retrieval.evaluation import EvaluateRetrieval"
   ]
  },
  {
   "cell_type": "code",
   "execution_count": null,
   "id": "7f20bd73",
   "metadata": {},
   "outputs": [],
   "source": [
    "ndcg, _map, recall, precision = EvaluateRetrieval.evaluate(qrels, results_rerank, k_values=[1, 3, 5, 10, 100, 1000])"
   ]
  },
  {
   "cell_type": "code",
   "execution_count": null,
   "id": "bd4b7388",
   "metadata": {},
   "outputs": [],
   "source": []
  }
 ],
 "metadata": {
  "kernelspec": {
   "display_name": "Python 3 (ipykernel)",
   "language": "python",
   "name": "python3"
  },
  "language_info": {
   "codemirror_mode": {
    "name": "ipython",
    "version": 3
   },
   "file_extension": ".py",
   "mimetype": "text/x-python",
   "name": "python",
   "nbconvert_exporter": "python",
   "pygments_lexer": "ipython3",
   "version": "3.9.7"
  },
  "toc": {
   "base_numbering": 1,
   "nav_menu": {},
   "number_sections": true,
   "sideBar": true,
   "skip_h1_title": false,
   "title_cell": "Table of Contents",
   "title_sidebar": "Contents",
   "toc_cell": false,
   "toc_position": {},
   "toc_section_display": true,
   "toc_window_display": false
  }
 },
 "nbformat": 4,
 "nbformat_minor": 5
}
