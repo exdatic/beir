{
 "cells": [
  {
   "cell_type": "code",
   "execution_count": 3,
   "id": "d4f00fff",
   "metadata": {},
   "outputs": [
    {
     "name": "stdout",
     "output_type": "stream",
     "text": [
      "Text:\n",
      "answer2question: Python is an interpreted, high-level and general-purpose programming language. Python's design philosophy emphasizes code readability with its notable use of significant whitespace. Its language constructs and object-oriented approach aim to help programmers write clear, logical code for small and large-scale projects.\n",
      "\n",
      "Generated Queries:\n",
      "1: Is python a multiplatform programming language?\n",
      "2: What do you think is the significance of Python in the development of Web applications?\n",
      "3: why python is needed?\n",
      "4: what are the reasons for writing python?\n",
      "5: What is python? What are its advantages/disadvantages?\n"
     ]
    }
   ],
   "source": [
    "from transformers import T5Tokenizer, T5ForConditionalGeneration\n",
    "\n",
    "model_name = 'doc2query/all-with_prefix-t5-base-v1'\n",
    "tokenizer = T5Tokenizer.from_pretrained(model_name)\n",
    "model = T5ForConditionalGeneration.from_pretrained(model_name)\n",
    "\n",
    "prefix = \"answer2question\"\n",
    "text = \"Python is an interpreted, high-level and general-purpose programming language. Python's design philosophy emphasizes code readability with its notable use of significant whitespace. Its language constructs and object-oriented approach aim to help programmers write clear, logical code for small and large-scale projects.\"\n",
    "\n",
    "text = prefix+\": \"+text\n",
    "\n",
    "input_ids = tokenizer.encode(text, max_length=384, truncation=True, return_tensors='pt')\n",
    "outputs = model.generate(\n",
    "    input_ids=input_ids,\n",
    "    max_length=64,\n",
    "    do_sample=True,\n",
    "    top_p=0.95,\n",
    "    num_return_sequences=5)\n",
    "\n",
    "print(\"Text:\")\n",
    "print(text)\n",
    "\n",
    "print(\"\\nGenerated Queries:\")\n",
    "for i in range(len(outputs)):\n",
    "    query = tokenizer.decode(outputs[i], skip_special_tokens=True)\n",
    "    print(f'{i + 1}: {query}')\n"
   ]
  },
  {
   "cell_type": "code",
   "execution_count": 18,
   "id": "a411ffbf",
   "metadata": {},
   "outputs": [],
   "source": [
    "text = \"Photodynamic Therapy (PDT) is a treatment that requires light, a photosensitizing agent, and molecular oxygen. The photosensitizer is activated by light and it interacts with the oxygen that is present in the cellular microenvironment. The molecular oxygen is transformed into singlet oxygen, which is highly reactive and responsible for the cell death. Therefore, PS is an important element for the therapy happens, including its concentration. Curcumin is a natural photosensitizer and it has demonstrated its anti-inflammatory and anti-oxidant effects that inhibit several signal transduction pathways. PDT vascular effects of curcumin at concentrations varying from 0.1 to 10 mM/cm and topical administration were investigated in a chick Chorioallantoic Membrane (CAM) model. The irradiation was performed at 450 nm, irradiance of 50 mW/cm during 10 min, delivering a total fluence of 30 J/cm. The vascular effect was followed after the application of curcumin, with images being obtained each 30 min in the first 3 h, 12 h, and 24 h. Those images were qualitatively and quantitatively analyzed with a MatLAB. Curcumin was expected to exhibit a vascular effect due to its angio-inhibitory effect. Using curcumin as photosensitizer, PDT induced a higher and faster vascular effect when compared to the use of this compound alone.\"\n",
    "text = \"Oleaginous yeast Cryptococcus curvatus MUCL 29819, an acid-tolerant lipid producer, was tested to spill lipids extracellularly using different concentrations of acetic acid as carbon source. Extracellular lipids were released when the yeast was cultured with acetic acid exceeding 20g/L. The highest production of lipid (5.01g/L) was obtained when the yeast was cultured with 40g/L acetic acid. When the yeast was cultivated with moderate concentration (20g/L) of acetic acid, lipid production was further increased by 49.6% through preculture with 40g/L acetic acid as stimulant. When applying high concentration (40g/L) of acetic acid as carbon source in sequencing batch cultivation, extracellular lipids accounted up to 50.5% in the last cycle and the extracellular lipids reached 5.43g/L through the whole process. This study provides an effective strategy to enhance extracellular lipid production and facilitate the recovery of microbial lipids.\"\n",
    "prefix = \"answer2question\"\n",
    "prefix = \"text2query\"\n",
    "#prefix = \"abstract2title\"\n",
    "text = prefix+\": \"+text"
   ]
  },
  {
   "cell_type": "code",
   "execution_count": 19,
   "id": "619f932b",
   "metadata": {},
   "outputs": [
    {
     "name": "stdout",
     "output_type": "stream",
     "text": [
      "Text:\n",
      "text2query: Oleaginous yeast Cryptococcus curvatus MUCL 29819, an acid-tolerant lipid producer, was tested to spill lipids extracellularly using different concentrations of acetic acid as carbon source. Extracellular lipids were released when the yeast was cultured with acetic acid exceeding 20g/L. The highest production of lipid (5.01g/L) was obtained when the yeast was cultured with 40g/L acetic acid. When the yeast was cultivated with moderate concentration (20g/L) of acetic acid, lipid production was further increased by 49.6% through preculture with 40g/L acetic acid as stimulant. When applying high concentration (40g/L) of acetic acid as carbon source in sequencing batch cultivation, extracellular lipids accounted up to 50.5% in the last cycle and the extracellular lipids reached 5.43g/L through the whole process. This study provides an effective strategy to enhance extracellular lipid production and facilitate the recovery of microbial lipids.\n",
      "\n",
      "Generated Queries:\n",
      "1: how much microbial lipid is produced by the yeast?\n",
      "2: why oleaginous yeast is rich in lipids?\n",
      "3: is there a yeast that has cacc?\n",
      "4: which fungus releases lipids using acetic acid?\n",
      "5: why acetic acid is important in the lipid production of oleaginous yeast?\n"
     ]
    }
   ],
   "source": [
    "input_ids = tokenizer.encode(text, max_length=384, truncation=True, return_tensors='pt')\n",
    "outputs = model.generate(\n",
    "    input_ids=input_ids,\n",
    "    max_length=64,\n",
    "    do_sample=True,\n",
    "    top_p=0.95,\n",
    "    num_return_sequences=5)\n",
    "\n",
    "print(\"Text:\")\n",
    "print(text)\n",
    "\n",
    "print(\"\\nGenerated Queries:\")\n",
    "for i in range(len(outputs)):\n",
    "    query = tokenizer.decode(outputs[i], skip_special_tokens=True)\n",
    "    print(f'{i + 1}: {query}')"
   ]
  }
 ],
 "metadata": {
  "kernelspec": {
   "display_name": "Python 3 (ipykernel)",
   "language": "python",
   "name": "python3"
  },
  "language_info": {
   "codemirror_mode": {
    "name": "ipython",
    "version": 3
   },
   "file_extension": ".py",
   "mimetype": "text/x-python",
   "name": "python",
   "nbconvert_exporter": "python",
   "pygments_lexer": "ipython3",
   "version": "3.9.7"
  },
  "toc": {
   "base_numbering": 1,
   "nav_menu": {},
   "number_sections": true,
   "sideBar": true,
   "skip_h1_title": false,
   "title_cell": "Table of Contents",
   "title_sidebar": "Contents",
   "toc_cell": false,
   "toc_position": {},
   "toc_section_display": true,
   "toc_window_display": false
  }
 },
 "nbformat": 4,
 "nbformat_minor": 5
}
