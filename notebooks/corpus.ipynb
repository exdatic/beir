{
 "cells": [
  {
   "cell_type": "code",
   "execution_count": 1,
   "id": "36aff321",
   "metadata": {},
   "outputs": [],
   "source": [
    "import os\n",
    "data_dir = os.path.expanduser(\"~/Google Drive/Shared drives/Data\")\n",
    "dataset = \"bioasq\"\n",
    "data_path = f'{data_dir}/BEIR/{dataset}'"
   ]
  },
  {
   "cell_type": "code",
   "execution_count": 21,
   "id": "954679c6",
   "metadata": {},
   "outputs": [
    {
     "data": {
      "application/vnd.jupyter.widget-view+json": {
       "model_id": "f151030144ee41e487254d9fea0bed88",
       "version_major": 2,
       "version_minor": 0
      },
      "text/plain": [
       "  0%|          | 0/1 [00:00<?, ?it/s]"
      ]
     },
     "metadata": {},
     "output_type": "display_data"
    }
   ],
   "source": [
    "from vectorspace.utils import json_load\n",
    "from beir.datasets.data_loader import GenericDataLoader\n",
    "_, queries, qrels = GenericDataLoader(data_path).load(split=\"test\")\n",
    "bm25_results = json_load(f\"{data_dir}/BEIR/results_{dataset}_bm25.json\")\n",
    "bm25_results_100 = json_load(f\"{data_dir}/BEIR/results_{dataset}_bm25_100.json\")"
   ]
  },
  {
   "cell_type": "code",
   "execution_count": 22,
   "id": "011acce3",
   "metadata": {},
   "outputs": [],
   "source": [
    "from vectorspace.store import Store as ESDict\n",
    "from elasticsearch import Elasticsearch\n",
    "corpus = ESDict(Elasticsearch(['http://localhost:9200']), dataset)"
   ]
  },
  {
   "cell_type": "code",
   "execution_count": 8,
   "id": "35d19262",
   "metadata": {},
   "outputs": [],
   "source": [
    "#doc_ids = [doc_id for doc_ids in bm25_results.values() for doc_id in list(doc_ids)[:1000]]\n",
    "#reduced_corpus = {}\n",
    "#for doc_id, doc in corpus.mget(set(doc_ids), _source=['title', 'text']):\n",
    "#    reduced_corpus[doc_id] = {\n",
    "#        'title': doc['title'] or '',\n",
    "#        'text': doc['text'] or ''\n",
    "#    }"
   ]
  },
  {
   "cell_type": "code",
   "execution_count": 23,
   "id": "83507db6",
   "metadata": {},
   "outputs": [],
   "source": [
    "doc_ids = [doc_id for doc_ids in bm25_results_100.values() for doc_id in list(doc_ids)[:1000]]\n",
    "reduced_corpus_100 = {}\n",
    "for doc_id, doc in corpus.mget(set(doc_ids), _source=['title', 'text']):\n",
    "    reduced_corpus_100[doc_id] = {\n",
    "        'title': doc['title'] or '',\n",
    "        'text': doc['text'] or ''\n",
    "    }"
   ]
  },
  {
   "cell_type": "code",
   "execution_count": 24,
   "id": "3406466f",
   "metadata": {},
   "outputs": [
    {
     "data": {
      "text/plain": [
       "86980"
      ]
     },
     "execution_count": 24,
     "metadata": {},
     "output_type": "execute_result"
    }
   ],
   "source": [
    "len(reduced_corpus_100)"
   ]
  },
  {
   "cell_type": "code",
   "execution_count": 25,
   "id": "4f8468e4",
   "metadata": {},
   "outputs": [],
   "source": [
    "from vectorspace.utils import json_dump\n",
    "json_dump(reduced_corpus_100, f\"{data_path}/reduced_corpus_100.json\")"
   ]
  },
  {
   "cell_type": "code",
   "execution_count": 20,
   "id": "3b2d7b55",
   "metadata": {},
   "outputs": [],
   "source": [
    "from vectorspace.utils import json_load\n",
    "reduced_corpus = json_load(f\"{data_path}/reduced_corpus.json\")"
   ]
  },
  {
   "cell_type": "code",
   "execution_count": 33,
   "id": "a44e7d97",
   "metadata": {
    "scrolled": false
   },
   "outputs": [],
   "source": [
    "for query_id, docs in bm25_results.items():\n",
    "    query = queries[query_id]\n",
    "    print(query)\n",
    "    print()\n",
    "    for doc_id in list(docs)[:5]:\n",
    "        doc = corpus[doc_id]\n",
    "        print(doc['title'])\n",
    "        print(doc_id in qrels[query_id])\n",
    "        print()\n",
    "    print()"
   ]
  },
  {
   "cell_type": "code",
   "execution_count": 27,
   "id": "cd35dc1b",
   "metadata": {},
   "outputs": [
    {
     "data": {
      "text/plain": [
       "[('29434076',\n",
       "  {'title': 'Differences in Gut Microbiota Profiles between Autoimmune Pancreatitis and Chronic Pancreatitis.',\n",
       "   'text': 'Host-derived factors alter gut microenvironment, and changes in gut microbiota also affect biological functions of host. Alterations of gut microbiota have been reported in a wide variety of diseases, but the whole picture of alterations in pancreatic diseases remains to be clarified. In particular, the gut microbiota may be affected by malnutrition or impaired exocrine pancreas function that is associated with pancreatic diseases. We here conducted comprehensive analysis of gut microbiota in patients with type 1 autoimmune pancreatitis (AIP), a pancreatic manifestation of the systemic IgG4-related disease, and chronic pancreatitis (CP). The two diseases were selected, because altered immune reactions in AIP and/or long-standing malnutrition in CP may influence the gut microbiota. Fecal samples were obtained from 12 patients with AIP before the steroid therapy and 8 patients with CP. Metagenome DNA was extracted, and microbiota was analyzed by next generation sequencing. Gut microbiota profiles were different between patients with AIP and those with CP; namely, the proportions of Bacteroides, Streptococcus and Clostridium species were higher in patients with CP. The reasons for the increased proportion of these bacterial species remain unknown, but may reflect malabsorption and/or decreased pancreatic enzymes, both of which are associated with CP. Incidentally, the identified Streptococcus species are oral cavity inhabitants and also known as pathogens for endocarditis. Despite the small sample size, this study has shown the differences in gut microbiota profiles between AIP and CP. Comprehensive analysis of the gut microbiota may be useful for the differential diagnosis of pancreatic diseases.'}),\n",
       " ('31298535',\n",
       "  {'title': 'Impacts of Penconazole and Its Enantiomers Exposure on Gut Microbiota and Metabolic Profiles in Mice.',\n",
       "   'text': 'Exposure to chiral pesticides poses many potential health risks. In this study, we examined the impacts of exposure to penconazole and its enantiomers on gut microbiota and metabolic profiles in mice. The relative abundance of microbiota in cecal content significantly changed following exposure to penconazole and its enantiomers. At the genus level, the relative abundances of seven gut microflora were altered following exposure to (-)-penconazole. Both ()-penconazole and (+)-penconazole caused significant changes in the relative abundances of five gut microflora. In addition, targeted serum metabolomics analysis showed disturbed metabolic profiles following exposure. Respectively, ()-penconazole, (+)-penconazole, and (-)-penconazole exposure significantly altered the relative levels of 29, 23, and 36 metabolites. In general, exposure to penconazole and its enantiomers caused disorders in gut microbiota and metabolic profiles of mice. The potential health risks of penconazole and its enantiomers now require further evaluation.'}),\n",
       " ('26016865',\n",
       "  {'title': 'Fecal menaquinone profiles of overweight adults are associated with gut microbiota composition during a gut microbiota-targeted dietary intervention.',\n",
       "   'text': 'BACKGROUND: Emerging evidence supports novel roles for vitamin K in cardiometabolic health, some of which may be unique to the bacterially synthesized vitamin K forms known as menaquinones. However, factors influencing menaquinone biosynthesis by the gut microbiota and associations with cardiometabolic health have not been examined.OBJECTIVE: The objective of this study was to identify associations between fecal menaquinone profiles, gut microbiota composition, and biomarkers of cardiometabolic health.DESIGN: The menaquinone profile and gut microbiota structure were periodically measured in fecal samples collected from 77 overweight Chinese adults who consumed a prescribed diet previously shown to alter gut microbiota composition and to improve cardiometabolic biomarkers.RESULTS: Covariance among menaquinones within individual fecal samples partitioned individuals into 2 distinct groups, herein introduced as menaquinotypes of the human gut. Menaquinotypes were characterized by differences in menaquinone (MK) 5 and MK9-MK13 and differences in the relative abundance of several operational taxonomic units (OTUs) delineated at the species level, predominantly within the genera Prevotella spp. and Bacteroides spp. Fecal MK4, MK6, and MK8 decreased during the intervention (P < 0.05); and longitudinal changes in the relative abundance of >100 OTUs were associated with altered fecal content of ?1 individual menaquinone. The strongest and most consistent relations were between Prevotella spp. and MK5 and MK11-MK13, between Bacteroides spp. and MK9 and MK10, and between Escherichia/Shigella spp. and MK8. Neither individual menaquinones nor menaquinotypes were longitudinally associated with markers of glycemia, insulin resistance, or inflammation.CONCLUSIONS: These findings suggest that variability in fecal menaquinone content is predominantly determined by relatively few genera within the gut microbiota and that diet-mediated alterations in gut microbiota composition may provide a feasible approach for altering gut menaquinone content. This trial was registered at the Chinese Clinical Trials Registry as ChiCTR-TRC-09000353.'}),\n",
       " ('27473171',\n",
       "  {'title': 'Altered gut microbiota in Rett syndrome.',\n",
       "   'text': \"BACKGROUND: The human gut microbiota directly affects human health, and its alteration can lead to gastrointestinal abnormalities and inflammation. Rett syndrome (RTT), a progressive neurological disorder mainly caused by mutations in MeCP2 gene, is commonly associated with gastrointestinal dysfunctions and constipation, suggesting a link between RTT's gastrointestinal abnormalities and the gut microbiota. The aim of this study was to evaluate the bacterial and fungal gut microbiota in a cohort of RTT subjects integrating clinical, metabolomics and metagenomics data to understand if changes in the gut microbiota of RTT subjects could be associated with gastrointestinal abnormalities and inflammatory status.RESULTS: Our findings revealed the occurrence of an intestinal sub-inflammatory status in RTT subjects as measured by the elevated values of faecal calprotectin and erythrocyte sedimentation rate. We showed that, overall, RTT subjects harbour bacterial and fungal microbiota altered in terms of relative abundances from those of healthy controls, with a reduced microbial richness and dominated by microbial taxa belonging to Bifidobacterium, several Clostridia (among which Anaerostipes, Clostridium XIVa, Clostridium XIVb) as well as Erysipelotrichaceae, Actinomyces, Lactobacillus, Enterococcus, Eggerthella, Escherichia/Shigella and the fungal genus Candida. We further observed that alterations of the gut microbiota do not depend on the constipation status of RTT subjects and that this dysbiotic microbiota produced altered short chain fatty acids profiles.CONCLUSIONS: We demonstrated for the first time that RTT is associated with a dysbiosis of both the bacterial and fungal component of the gut microbiota, suggesting that impairments of MeCP2 functioning favour the establishment of a microbial community adapted to the costive gastrointestinal niche of RTT subjects. The altered production of short chain fatty acids associated with this microbiota might reinforce the constipation status of RTT subjects and contribute to RTT gastrointestinal physiopathology.\"}),\n",
       " ('27545196',\n",
       "  {'title': 'Gut microbiota can transfer fiber characteristics and lipid metabolic profiles of skeletal muscle from pigs to germ-free mice.',\n",
       "   'text': 'Obesity causes changes in microbiota composition, and an altered gut microbiota can transfer obesity-associated phenotypes from donors to recipients. Obese Rongchang pigs (RP) exhibited distinct fiber characteristics and lipid metabolic profiles in their muscle compared with lean Yorkshire pigs (YP). However, whether RP have a different gut microbiota than YP and whether there is a relationship between the microbiota and muscle properties are poorly understood. The present study was conducted to test whether the muscle properties can be transferred from pigs to germ-free (GF) mice. High-throughput pyrosequencing confirms the presence of distinct core microbiota between pig breeds, with alterations in taxonomic distribution and modulations in  diversity. RP displayed a significant higher Firmicutes/Bacteroidetes ratio and apparent genera differences compared with YP. Transplanting the porcine microbiota into GF mice replicated the phenotypes of the donors. RP and their GF mouse recipients exhibited a higher body fat mass, a higher slow-contracting fiber proportion, a decreased fiber size and fast IIb fiber percentage, and enhanced lipogenesis in the gastrocnemius muscle. Furthermore, the gut microbiota composition of colonized mice shared high similarity with their donor pigs. Taken together, the gut microbiota of obese pigs intrinsically influences skeletal muscle development and the lipid metabolic profiles.'}),\n",
       " ('23631562',\n",
       "  {'title': 'Gut microbiota composition modifies fecal metabolic profiles in mice.',\n",
       "   'text': 'The gut microbiome is known to be extensively involved in human health and disease. In order to reveal the metabolic relationship between host and microbiome, we monitored recovery of the gut microbiota composition and fecal profiles of mice after gentamicin and/or ceftriaxone treatments. This was performed by employing (1)H nuclear magnetic resonance (NMR)-based metabonomics and denaturing gradient gel electrophoresis (DGGE) fingerprint of gut microbiota. The common features of fecal metabolites postantibiotic treatment include decreased levels of short chain fatty acids (SCFAs), amino acids and primary bile acids and increased oligosaccharides, d-pinitol, choline and secondary bile acids (deoxycholic acid). This suggests suppressed bacterial fermentation, protein degradation and enhanced gut microbial modification of bile acids. Barnesiella, Prevotella, and Alistipes levels were shown to decrease as a result of the antibiotic treatment, whereas levels of Bacteroides, Enterococcus and Erysipelotrichaceae incertae sedis, and Mycoplasma increased after gentamicin and ceftriaxone treatment. In addition, there was a strong correlation between fecal profiles and levels of Bacteroides, Barnesiella, Alistipes and Prevotella. The integration of metabonomics and gut microbiota profiling provides important information on the changes of gut microbiota and their impact on fecal profiles during the recovery after antibiotic treatment. The correlation between gut microbiota and fecal metabolites provides important information on the function of bacteria, which in turn could be important in optimizing therapeutic strategies, and developing potential microbiota-based disease preventions and therapeutic interventions.'}),\n",
       " ('28251905',\n",
       "  {'title': 'Transplantation of fecal microbiota from patients with irritable bowel syndrome alters gut function and behavior in recipient mice.',\n",
       "   'text': 'Irritable bowel syndrome (IBS) is a common disorder characterized by altered gut function and often is accompanied by comorbid anxiety. Although changes in the gut microbiota have been documented, their relevance to the clinical expression of IBS is unknown. To evaluate a functional role for commensal gut bacteria in IBS, we colonized germ-free mice with the fecal microbiota from healthy control individuals or IBS patients with diarrhea (IBS-D), with or without anxiety, and monitored gut function and behavior in the transplanted mice. Microbiota profiles in recipient mice clustered according to the microbiota profiles of the human donors. Mice receiving the IBS-D fecal microbiota showed a taxonomically similar microbial composition to that of mice receiving the healthy control fecal microbiota. However, IBS-D mice showed different serum metabolomic profiles. Mice receiving the IBS-D fecal microbiota, but not the healthy control fecal microbiota, exhibited faster gastrointestinal transit, intestinal barrier dysfunction, innate immune activation, and anxiety-like behavior. These results indicate the potential of the gut microbiota to contribute to both intestinal and behavioral manifestations of IBS-D and suggest the potential value of microbiota-directed therapies in IBS patients.'}),\n",
       " ('28472674',\n",
       "  {'title': 'Saccharin induced liver inflammation in mice by altering the gut microbiota and its metabolic functions.',\n",
       "   'text': 'Maintaining the balance of the gut microbiota and its metabolic functions is vital for human health, however, this balance can be disrupted by various external factors including food additives. A range of food and beverages are sweetened by saccharin, which is generally considered to be safe despite controversial debates. However, recent studies indicated that saccharin perturbed the gut microbiota. Inflammation is frequently associated with disruptions of the gut microbiota. The aim of this study is to investigate the relationship between host inflammation and perturbed gut microbiome by saccharin. C57BL/6J male mice were treated with saccharin in drinking water for six months. Q-PCR was used to detect inflammatory markers in mouse liver, while 16S rRNA gene sequencing and metabolomics were used to reveal changes of the gut microbiota and its metabolomic profiles. Elevated expression of pro-inflammatory iNOS and TNF- in liver indicated that saccharin induced inflammation in mice. The altered gut bacterial genera, enriched orthologs of pathogen-associated molecular patterns, such as LPS and bacterial toxins, in concert with increased pro-inflammatory metabolites suggested that the saccharin-induced liver inflammation could be associated with the perturbation of the gut microbiota and its metabolic functions.'}),\n",
       " ('29157127',\n",
       "  {'title': 'Modulation of the gut microbiota by metformin improves metabolic profiles in aged obese mice.',\n",
       "   'text': 'The gut microbiota is a contributing factor in obesity-related metabolic disorders. The effect of metformin on the gut microbiota has been reported; however, the relationship between the gut microbiota and the mechanism of action of metformin in elderly individuals is unclear. In this study, the effect of metformin on the gut microbiota was investigated in aged obese mice. The abundance of the genera Akkermansia, Bacteroides, Butyricimonas, and Parabacteroides was significantly increased by metformin in mice fed a high-fat diet. Metformin treatment decreased the expression of IL-1 and IL-6 in epididymal fat, which was correlated with the abundance of various bacterial genera. In addition, both fecal microbiota transplantation from metformin-treated mice and extracellular vesicles of Akkermansia muciniphila improved the body weight and lipid profiles of the mice. Our findings suggest that modulation of the gut microbiota by metformin results in metabolic improvements in aged mice, and that these effects are associated with inflammatory immune responses.'}),\n",
       " ('29758946',\n",
       "  {'title': \"Gut Microbiota is Altered in Patients with Alzheimer's Disease.\",\n",
       "   'text': \"Previous studies suggest that gut microbiota is associated with neuropsychiatric disorders, such as Parkinson's disease, amyotrophic lateral sclerosis, and depression. However, whether the composition and diversity of gut microbiota is altered in patients with Alzheimer's disease (AD) remains largely unknown. In the present study, we collected fecal samples from 43 AD patients and 43 age- and gender-matched cognitively normal controls. 16S ribosomal RNA sequencing technique was used to analyze the microbiota composition in feces. The composition of gut microbiota was different between the two groups. Several bacteria taxa in AD patients were different from those in controls at taxonomic levels, such as Bacteroides, Actinobacteria, Ruminococcus, Lachnospiraceae, and Selenomonadales. Our findings suggest that gut microbiota is altered in AD patients and may be involved in the pathogenesis of AD.\"})]"
      ]
     },
     "execution_count": 27,
     "metadata": {},
     "output_type": "execute_result"
    }
   ],
   "source": [
    "list(reduced_corpus.items())[:10]"
   ]
  }
 ],
 "metadata": {
  "kernelspec": {
   "display_name": "Python 3 (ipykernel)",
   "language": "python",
   "name": "python3"
  },
  "language_info": {
   "codemirror_mode": {
    "name": "ipython",
    "version": 3
   },
   "file_extension": ".py",
   "mimetype": "text/x-python",
   "name": "python",
   "nbconvert_exporter": "python",
   "pygments_lexer": "ipython3",
   "version": "3.9.7"
  },
  "toc": {
   "base_numbering": 1,
   "nav_menu": {},
   "number_sections": true,
   "sideBar": true,
   "skip_h1_title": false,
   "title_cell": "Table of Contents",
   "title_sidebar": "Contents",
   "toc_cell": false,
   "toc_position": {},
   "toc_section_display": true,
   "toc_window_display": false
  }
 },
 "nbformat": 4,
 "nbformat_minor": 5
}
