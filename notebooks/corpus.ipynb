{
 "cells": [
  {
   "cell_type": "code",
   "execution_count": 2,
   "id": "36aff321",
   "metadata": {},
   "outputs": [],
   "source": [
    "import os\n",
    "data_dir = os.path.expanduser(\"~/Google Drive/Shared drives/Data\")\n",
    "dataset = \"bioasq\"\n",
    "data_path = f'{data_dir}/BEIR/{dataset}'"
   ]
  },
  {
   "cell_type": "code",
   "execution_count": 3,
   "id": "954679c6",
   "metadata": {},
   "outputs": [
    {
     "name": "stderr",
     "output_type": "stream",
     "text": [
      "/opt/homebrew/anaconda3/lib/python3.9/site-packages/beir/datasets/data_loader.py:2: TqdmExperimentalWarning: Using `tqdm.autonotebook.tqdm` in notebook mode. Use `tqdm.tqdm` instead to force console mode (e.g. in jupyter console)\n",
      "  from tqdm.autonotebook import tqdm\n"
     ]
    },
    {
     "data": {
      "application/vnd.jupyter.widget-view+json": {
       "model_id": "15435a08bbf546b4ba02576dadc1bc8c",
       "version_major": 2,
       "version_minor": 0
      },
      "text/plain": [
       "  0%|          | 0/1 [00:00<?, ?it/s]"
      ]
     },
     "metadata": {},
     "output_type": "display_data"
    }
   ],
   "source": [
    "from vectorspace.utils import json_load\n",
    "from beir.datasets.data_loader import GenericDataLoader\n",
    "_, queries, qrels = GenericDataLoader(data_path).load(split=\"test\")\n",
    "bm25_results = json_load(f\"{data_dir}/BEIR/results_{dataset}_bm25.json\")"
   ]
  },
  {
   "cell_type": "code",
   "execution_count": 15,
   "id": "011acce3",
   "metadata": {},
   "outputs": [],
   "source": [
    "from vectorspace.store import Store as ESDict\n",
    "from elasticsearch import Elasticsearch\n",
    "corpus = ESDict(Elasticsearch(['http://localhost:9200']), dataset)"
   ]
  },
  {
   "cell_type": "code",
   "execution_count": 43,
   "id": "b867b3ed",
   "metadata": {},
   "outputs": [],
   "source": [
    "doc_ids = [doc_id for doc_ids in bm25_results.values() for doc_id in list(doc_ids)[:1000]]"
   ]
  },
  {
   "cell_type": "code",
   "execution_count": 58,
   "id": "35d19262",
   "metadata": {},
   "outputs": [],
   "source": [
    "reduced_corpus = {}\n",
    "for doc_id, doc in corpus.mget(set(doc_ids), _source=['title', 'text']):\n",
    "    reduced_corpus[doc_id] = {\n",
    "        'title': doc['title'] or '',\n",
    "        'text': doc['text'] or ''\n",
    "    }"
   ]
  },
  {
   "cell_type": "code",
   "execution_count": 56,
   "id": "4f8468e4",
   "metadata": {},
   "outputs": [],
   "source": [
    "from vectorspace.utils import json_dump\n",
    "json_dump(reduced_corpus, f\"{data_path}/reduced_corpus.json\")"
   ]
  },
  {
   "cell_type": "code",
   "execution_count": 33,
   "id": "a44e7d97",
   "metadata": {
    "scrolled": false
   },
   "outputs": [],
   "source": [
    "for query_id, docs in bm25_results.items():\n",
    "    query = queries[query_id]\n",
    "    print(query)\n",
    "    print()\n",
    "    for doc_id in list(docs)[:5]:\n",
    "        doc = corpus[doc_id]\n",
    "        print(doc['title'])\n",
    "        print(doc_id in qrels[query_id])\n",
    "        print()\n",
    "    print()"
   ]
  }
 ],
 "metadata": {
  "kernelspec": {
   "display_name": "Python 3 (ipykernel)",
   "language": "python",
   "name": "python3"
  },
  "language_info": {
   "codemirror_mode": {
    "name": "ipython",
    "version": 3
   },
   "file_extension": ".py",
   "mimetype": "text/x-python",
   "name": "python",
   "nbconvert_exporter": "python",
   "pygments_lexer": "ipython3",
   "version": "3.9.7"
  },
  "toc": {
   "base_numbering": 1,
   "nav_menu": {},
   "number_sections": true,
   "sideBar": true,
   "skip_h1_title": false,
   "title_cell": "Table of Contents",
   "title_sidebar": "Contents",
   "toc_cell": false,
   "toc_position": {},
   "toc_section_display": true,
   "toc_window_display": false
  }
 },
 "nbformat": 4,
 "nbformat_minor": 5
}
