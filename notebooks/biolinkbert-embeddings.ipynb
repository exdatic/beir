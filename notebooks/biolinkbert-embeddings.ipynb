{
 "cells": [
  {
   "cell_type": "code",
   "execution_count": 1,
   "id": "09a1af20",
   "metadata": {},
   "outputs": [
    {
     "data": {
      "application/vnd.jupyter.widget-view+json": {
       "model_id": "e55965374b9047809052da45035ed4fe",
       "version_major": 2,
       "version_minor": 0
      },
      "text/plain": [
       "Downloading:   0%|          | 0.00/559 [00:00<?, ?B/s]"
      ]
     },
     "metadata": {},
     "output_type": "display_data"
    },
    {
     "data": {
      "application/vnd.jupyter.widget-view+json": {
       "model_id": "bd2a4680280045b0a7554f20fae45368",
       "version_major": 2,
       "version_minor": 0
      },
      "text/plain": [
       "Downloading:   0%|          | 0.00/433M [00:00<?, ?B/s]"
      ]
     },
     "metadata": {},
     "output_type": "display_data"
    },
    {
     "data": {
      "application/vnd.jupyter.widget-view+json": {
       "model_id": "03ba2164939c494cb57d20d455ccf654",
       "version_major": 2,
       "version_minor": 0
      },
      "text/plain": [
       "Downloading:   0%|          | 0.00/379 [00:00<?, ?B/s]"
      ]
     },
     "metadata": {},
     "output_type": "display_data"
    },
    {
     "data": {
      "application/vnd.jupyter.widget-view+json": {
       "model_id": "511172b10ba04a3eb7858d7fe8f85745",
       "version_major": 2,
       "version_minor": 0
      },
      "text/plain": [
       "Downloading:   0%|          | 0.00/225k [00:00<?, ?B/s]"
      ]
     },
     "metadata": {},
     "output_type": "display_data"
    },
    {
     "data": {
      "application/vnd.jupyter.widget-view+json": {
       "model_id": "542fbc30de974eaf8524ed6b3cb055c0",
       "version_major": 2,
       "version_minor": 0
      },
      "text/plain": [
       "Downloading:   0%|          | 0.00/447k [00:00<?, ?B/s]"
      ]
     },
     "metadata": {},
     "output_type": "display_data"
    },
    {
     "data": {
      "application/vnd.jupyter.widget-view+json": {
       "model_id": "151e940e6ee84efd84e65725f2ba3fcc",
       "version_major": 2,
       "version_minor": 0
      },
      "text/plain": [
       "Downloading:   0%|          | 0.00/112 [00:00<?, ?B/s]"
      ]
     },
     "metadata": {},
     "output_type": "display_data"
    },
    {
     "name": "stdout",
     "output_type": "stream",
     "text": [
      "max_seq_length  512\n"
     ]
    }
   ],
   "source": [
    "#!pip install sentence_transformers\n",
    "from sentence_transformers import models, SentenceTransformer\n",
    "\n",
    "word_embedding_model = models.Transformer('michiyasunaga/BioLinkBERT-base')\n",
    "pooling_model = models.Pooling(word_embedding_model.get_word_embedding_dimension())\n",
    "\n",
    "embedder = SentenceTransformer(modules=[word_embedding_model, pooling_model])"
   ]
  },
  {
   "cell_type": "code",
   "execution_count": 5,
   "id": "709f1624",
   "metadata": {},
   "outputs": [
    {
     "name": "stdout",
     "output_type": "stream",
     "text": [
      "\n",
      "\n",
      "======================\n",
      "\n",
      "\n",
      "Query: Differences in Gut Microbiota Profiles between Autoimmune Pancreatitis and Chronic Pancreatitis.\n",
      "\n",
      "Top 5 most similar sentences in corpus:\n",
      "(1) Host-derived factors alter gut microenvironment, and changes in gut microbiota also affect biological functions of host. (Score: 0.8919)\n",
      "(1) lterations of gut microbiota have been reported in a wide variety of diseases, but the whole picture of alterations in pancreatic diseases remains to be clarified. (Score: 0.8782)\n",
      "(2) In this study, we examined the impacts of exposure to penconazole and its enantiomers on gut microbiota and metabolic profiles in mice. (Score: 0.8750)\n",
      "(3) The menaquinone profile and gut microbiota structure were periodically measured in fecal samples collected from 77 overweight Chinese adults who consumed a prescribed diet previously shown to alter gut microbiota composition and to improve cardiometabolic biomarkers. (Score: 0.8725)\n",
      "(2) Exposure to chiral pesticides poses many potential health risks. In this study, we examined the impacts of exposure to penconazole and its enantiomers on gut microbiota and metabolic profiles in mice. (Score: 0.8722)\n",
      "\n",
      "\n",
      "======================\n",
      "\n",
      "\n",
      "Query: Impacts of Penconazole and Its Enantiomers Exposure on Gut Microbiota and Metabolic Profiles in Mice.\n",
      "\n",
      "Top 5 most similar sentences in corpus:\n",
      "(2) In this study, we examined the impacts of exposure to penconazole and its enantiomers on gut microbiota and metabolic profiles in mice. (Score: 0.9562)\n",
      "(2) Exposure to chiral pesticides poses many potential health risks. In this study, we examined the impacts of exposure to penconazole and its enantiomers on gut microbiota and metabolic profiles in mice. (Score: 0.9396)\n",
      "(3) The menaquinone profile and gut microbiota structure were periodically measured in fecal samples collected from 77 overweight Chinese adults who consumed a prescribed diet previously shown to alter gut microbiota composition and to improve cardiometabolic biomarkers. (Score: 0.9016)\n",
      "(3) The objective of this study was to identify associations between fecal menaquinone profiles, gut microbiota composition, and biomarkers of cardiometabolic health. (Score: 0.8891)\n",
      "(1) Host-derived factors alter gut microenvironment, and changes in gut microbiota also affect biological functions of host. (Score: 0.8792)\n",
      "\n",
      "\n",
      "======================\n",
      "\n",
      "\n",
      "Query: Fecal menaquinone profiles of overweight adults are associated with gut microbiota composition during a gut microbiota-targeted dietary intervention.\n",
      "\n",
      "Top 5 most similar sentences in corpus:\n",
      "(3) The menaquinone profile and gut microbiota structure were periodically measured in fecal samples collected from 77 overweight Chinese adults who consumed a prescribed diet previously shown to alter gut microbiota composition and to improve cardiometabolic biomarkers. (Score: 0.9617)\n",
      "(3) The objective of this study was to identify associations between fecal menaquinone profiles, gut microbiota composition, and biomarkers of cardiometabolic health. (Score: 0.9358)\n",
      "(1) Host-derived factors alter gut microenvironment, and changes in gut microbiota also affect biological functions of host. (Score: 0.9039)\n",
      "(2) In this study, we examined the impacts of exposure to penconazole and its enantiomers on gut microbiota and metabolic profiles in mice. (Score: 0.8854)\n",
      "(2) Exposure to chiral pesticides poses many potential health risks. In this study, we examined the impacts of exposure to penconazole and its enantiomers on gut microbiota and metabolic profiles in mice. (Score: 0.8777)\n"
     ]
    }
   ],
   "source": [
    "import torch\n",
    "from sentence_transformers import util\n",
    "# Corpus with example sentences\n",
    "corpus = [\n",
    "    '(1) Host-derived factors alter gut microenvironment, and changes in gut microbiota also affect biological functions of host.',\n",
    "    '(1) lterations of gut microbiota have been reported in a wide variety of diseases, but the whole picture of alterations in pancreatic diseases remains to be clarified.',\n",
    "    '(2) Exposure to chiral pesticides poses many potential health risks. In this study, we examined the impacts of exposure to penconazole and its enantiomers on gut microbiota and metabolic profiles in mice.',\n",
    "    '(2) In this study, we examined the impacts of exposure to penconazole and its enantiomers on gut microbiota and metabolic profiles in mice.',\n",
    "    '(3) The objective of this study was to identify associations between fecal menaquinone profiles, gut microbiota composition, and biomarkers of cardiometabolic health.',\n",
    "    '(3) The menaquinone profile and gut microbiota structure were periodically measured in fecal samples collected from 77 overweight Chinese adults who consumed a prescribed diet previously shown to alter gut microbiota composition and to improve cardiometabolic biomarkers.'\n",
    "]\n",
    "corpus_embeddings = embedder.encode(corpus, convert_to_tensor=True)\n",
    "\n",
    "# Query sentences:\n",
    "queries = [\n",
    "    'Differences in Gut Microbiota Profiles between Autoimmune Pancreatitis and Chronic Pancreatitis.',\n",
    "    'Impacts of Penconazole and Its Enantiomers Exposure on Gut Microbiota and Metabolic Profiles in Mice.',\n",
    "    'Fecal menaquinone profiles of overweight adults are associated with gut microbiota composition during a gut microbiota-targeted dietary intervention.'\n",
    "]\n",
    "\n",
    "\n",
    "# Find the closest 5 sentences of the corpus for each query sentence based on cosine similarity\n",
    "top_k = min(5, len(corpus))\n",
    "for query in queries:\n",
    "    query_embedding = embedder.encode(query, convert_to_tensor=True)\n",
    "\n",
    "    # We use cosine-similarity and torch.topk to find the highest 5 scores\n",
    "    cos_scores = util.cos_sim(query_embedding, corpus_embeddings)[0]\n",
    "    top_results = torch.topk(cos_scores, k=top_k)\n",
    "\n",
    "    print(\"\\n\\n======================\\n\\n\")\n",
    "    print(\"Query:\", query)\n",
    "    print(\"\\nTop 5 most similar sentences in corpus:\")\n",
    "\n",
    "    for score, idx in zip(top_results[0], top_results[1]):\n",
    "        print(corpus[idx], \"(Score: {:.4f})\".format(score))\n",
    "\n",
    "    \"\"\"\n",
    "    # Alternatively, we can also use util.semantic_search to perform cosine similarty + topk\n",
    "    hits = util.semantic_search(query_embedding, corpus_embeddings, top_k=5)\n",
    "    hits = hits[0]      #Get the hits for the first query\n",
    "    for hit in hits:\n",
    "        print(corpus[hit['corpus_id']], \"(Score: {:.4f})\".format(hit['score']))\n",
    "    \"\"\""
   ]
  },
  {
   "cell_type": "code",
   "execution_count": null,
   "id": "3884fa22",
   "metadata": {},
   "outputs": [],
   "source": []
  }
 ],
 "metadata": {
  "kernelspec": {
   "display_name": "Python 3 (ipykernel)",
   "language": "python",
   "name": "python3"
  },
  "language_info": {
   "codemirror_mode": {
    "name": "ipython",
    "version": 3
   },
   "file_extension": ".py",
   "mimetype": "text/x-python",
   "name": "python",
   "nbconvert_exporter": "python",
   "pygments_lexer": "ipython3",
   "version": "3.9.7"
  },
  "toc": {
   "base_numbering": 1,
   "nav_menu": {},
   "number_sections": true,
   "sideBar": true,
   "skip_h1_title": false,
   "title_cell": "Table of Contents",
   "title_sidebar": "Contents",
   "toc_cell": false,
   "toc_position": {},
   "toc_section_display": true,
   "toc_window_display": false
  }
 },
 "nbformat": 4,
 "nbformat_minor": 5
}
