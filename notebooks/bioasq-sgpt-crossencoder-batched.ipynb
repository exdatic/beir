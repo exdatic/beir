{
 "cells": [
  {
   "cell_type": "code",
   "execution_count": 5,
   "id": "6ff817b0",
   "metadata": {},
   "outputs": [],
   "source": [
    "#!conda install -y -c conda-forge elasticsearch=7.17.0"
   ]
  },
  {
   "cell_type": "code",
   "execution_count": 1,
   "id": "25af04e4",
   "metadata": {},
   "outputs": [],
   "source": [
    "#!conda install -y -c conda-forge accelerate sacremoses transformers"
   ]
  },
  {
   "cell_type": "code",
   "execution_count": 1,
   "id": "36aff321",
   "metadata": {},
   "outputs": [],
   "source": [
    "import os\n",
    "data_dir = os.path.expanduser(\"~/Google Drive/Shared drives/Data\")\n",
    "dataset = \"bioasq\"\n",
    "data_path = f'{data_dir}/BEIR/{dataset}'"
   ]
  },
  {
   "cell_type": "code",
   "execution_count": 2,
   "id": "4321a920",
   "metadata": {},
   "outputs": [],
   "source": [
    "#from vectorspace.utils import json_load\n",
    "#from beir.datasets.data_loader import GenericDataLoader\n",
    "#_, queries, qrels = GenericDataLoader(data_path).load(split=\"test\")\n",
    "#bm25_results = json_load(f\"{data_dir}/BEIR/results_{dataset}_bm25.json\")\n",
    "#from vectorspace.store import Store as ESDict\n",
    "#from elasticsearch import Elasticsearch\n",
    "#corpus = ESDict(Elasticsearch(['http://localhost:9200']), dataset)"
   ]
  },
  {
   "cell_type": "code",
   "execution_count": 3,
   "id": "7751b49b",
   "metadata": {},
   "outputs": [],
   "source": [
    "prompt = 'Documents are searched to find matches with the same content.\\nThe document \"{}\" is a good search result for \"'\n"
   ]
  },
  {
   "cell_type": "code",
   "execution_count": 4,
   "id": "6d1a7ed1",
   "metadata": {},
   "outputs": [],
   "source": [
    "from vectorspace.utils import jsonl_load\n",
    "sentence_pairs = [[p['query'], p['text']] for p in jsonl_load(f'{data_path}/sentence_pairs_100.jsonl')]\n",
    "pair_ids = [[p['query_id'], p['doc_id']] for p in jsonl_load(f'{data_path}/pair_ids_100.jsonl')]"
   ]
  },
  {
   "cell_type": "markdown",
   "id": "f1d833a0",
   "metadata": {},
   "source": [
    "## GPT"
   ]
  },
  {
   "cell_type": "code",
   "execution_count": 5,
   "id": "58437fba",
   "metadata": {
    "scrolled": true
   },
   "outputs": [],
   "source": [
    "import torch\n",
    "from transformers import AutoModelForCausalLM, AutoTokenizer\n",
    "from scipy.spatial.distance import cosine\n",
    "\n",
    "# Get models - The package will take care of downloading the models automatically\n",
    "# For best performance: EleutherAI/gpt-j-6B\n",
    "tokenizer = AutoTokenizer.from_pretrained(\"EleutherAI/gpt-neo-125M\")\n",
    "device = 'mps'\n",
    "model = AutoModelForCausalLM.from_pretrained(\"EleutherAI/gpt-neo-125M\").to(device).eval()"
   ]
  },
  {
   "cell_type": "code",
   "execution_count": 7,
   "id": "ee3a8286",
   "metadata": {},
   "outputs": [],
   "source": [
    "import transformers\n",
    "import torch\n",
    "import torch.nn as nn\n",
    "import torch.nn.functional as F\n",
    "from tqdm import tqdm\n",
    "import numpy as np\n",
    "\n",
    "def encode(requests, tokenizer):\n",
    "    new_reqs = []\n",
    "    for continuation, context in requests:\n",
    "        if context == \"\":\n",
    "            # end of text as context\n",
    "            context_enc = [tokenizer.eos_token_id]\n",
    "        else:\n",
    "            context_enc = tokenizer.encode(context, add_special_tokens=False)\n",
    "        continuation_enc = tokenizer.encode(continuation, add_special_tokens=False)\n",
    "        new_reqs.append(((context, continuation), context_enc, continuation_enc))\n",
    "    return new_reqs \n",
    "\n",
    "import collections\n",
    "\n",
    "def group(arr, fn):\n",
    "    res = collections.defaultdict(list)\n",
    "\n",
    "    for ob in arr:\n",
    "        res[fn(ob)].append(ob)\n",
    "    \n",
    "    return list(res.values())\n",
    "\n",
    "class Reorderer:\n",
    "    def __init__(self, arr, fn):\n",
    "        self.size = len(arr)\n",
    "        arr = list(enumerate(arr))\n",
    "        arr = group(arr, lambda x: fn(x[1]))\n",
    "        arr = [\n",
    "            ([y[0] for y in x], x[0][1]) for x in arr\n",
    "        ]\n",
    "        arr.sort(key=lambda x: fn(x[1]))\n",
    "\n",
    "        self.arr = arr\n",
    "        \n",
    "    \n",
    "    def get_reordered(self):\n",
    "        return [x[1] for x in self.arr]\n",
    "    \n",
    "    def get_original(self, newarr):\n",
    "        res = [None] * self.size\n",
    "        cov = [False] * self.size\n",
    "\n",
    "        for (inds, _), v in zip(self.arr, newarr):\n",
    "            for ind in inds: \n",
    "                res[ind] = v\n",
    "                cov[ind] = True\n",
    "        \n",
    "        assert all(cov)\n",
    "        \n",
    "        return res\n",
    "\n",
    "def chunks(iter, n):\n",
    "    arr = []\n",
    "    for x in iter:\n",
    "        arr.append(x)\n",
    "        if len(arr) == n:\n",
    "            yield arr\n",
    "            arr = []\n",
    "    \n",
    "    if arr: yield arr\n",
    "\n",
    "def _model_call(inps, model):\n",
    "    \"\"\"\n",
    "    inps: a torch tensor of shape [batch, sequence]\n",
    "    the size of sequence may vary from call to call\n",
    "    returns: a torch tensor of shape [batch, sequence, vocab] with the\n",
    "    logits retuned from the model\n",
    "    \"\"\"\n",
    "    return model(inps)[0][:, :, :50257]\n",
    "\n",
    "def _loglikelihood_tokens(requests, model, max_length, device, disable_tqdm=False, batch_size=1, \n",
    "                          instruction_len=0, tokenizer=None):\n",
    "    res = []\n",
    "    with torch.no_grad():\n",
    "\n",
    "        def _collate(x):\n",
    "            toks = x[1] + x[2]\n",
    "            return (-len(toks), tuple(toks))\n",
    "        \n",
    "        # TODO: automatic (variable) batch size detection for vectorization\n",
    "        reord = Reorderer(requests, _collate)\n",
    "        for chunk in chunks(tqdm(reord.get_reordered(), disable=disable_tqdm), batch_size):\n",
    "            inps = []\n",
    "            contlens = []\n",
    "            inplens = []\n",
    "            padding_length = None\n",
    "\n",
    "            for _, context_enc, continuation_enc in chunk:\n",
    "                # sanity check\n",
    "                assert len(context_enc) > 0\n",
    "                assert len(continuation_enc) > 0\n",
    "                assert len(continuation_enc) <= max_length\n",
    "                inp = torch.tensor(\n",
    "                    (context_enc[:instruction_len] + ((context_enc[instruction_len:] \n",
    "                    + continuation_enc)[-(max_length+1-instruction_len):]))[:-1]\n",
    "                    , dtype=torch.long).to(device)\n",
    "                inplen, = inp.shape\n",
    "                cont = continuation_enc\n",
    "                # since in _collate we make sure length is descending, the longest is always the first one.\n",
    "                padding_length = padding_length if padding_length is not None else inplen\n",
    "                # pad to length\n",
    "                inp = torch.cat([\n",
    "                    inp, # [seq]\n",
    "                    torch.zeros(padding_length - inplen, dtype=torch.long).to(inp.device) # [padding_length - seq]\n",
    "                ], dim=0)\n",
    "                inps.append(inp.unsqueeze(0))\n",
    "                contlens.append(cont)\n",
    "                inplens.append(inplen)\n",
    "            # [batch, seq, vocab]\n",
    "            multi_logits = F.log_softmax(_model_call(torch.cat(inps, dim=0), model), dim=-1).cpu()  \n",
    "            \n",
    "\n",
    "            for (cache_key, _, _), logits, inp, inplen, cont_toks in zip(chunk, multi_logits, inps, inplens, contlens):\n",
    "                contlen = len(cont_toks)\n",
    "                logits = logits[inplen-contlen:inplen].unsqueeze(0) # [1, seq, vocab]\n",
    "                # cont_toks :: [1, seq]\n",
    "                cont_toks = torch.tensor(cont_toks, dtype=torch.long).unsqueeze(0)\n",
    "\n",
    "                # cont_toks are the vocab indices that make up the perfect continuation\n",
    "                # Hence we gather those vocab indices from the logits, i.e. their probabilities\n",
    "                logits = torch.gather(logits, 2, cont_toks.unsqueeze(-1)).squeeze(-1) # [1, seq]\n",
    "                # Sum to get a total score of that continuation\n",
    "                res.append(float(logits.sum()))\n",
    "\n",
    "    return reord.get_original(res)"
   ]
  },
  {
   "cell_type": "code",
   "execution_count": 8,
   "id": "c68f0249",
   "metadata": {},
   "outputs": [],
   "source": [
    "sentences = [(query, prompt.format(doc)) for (query, doc) in sentence_pairs]\n",
    "encoded = encode(sentences, tokenizer)\n"
   ]
  },
  {
   "cell_type": "code",
   "execution_count": 10,
   "id": "aa58d5d3",
   "metadata": {},
   "outputs": [],
   "source": [
    "import os\n",
    "os.environ[\"TOKENIZERS_PARALLELISM\"] = \"false\""
   ]
  },
  {
   "cell_type": "code",
   "execution_count": 12,
   "id": "0a139505",
   "metadata": {},
   "outputs": [
    {
     "name": "stderr",
     "output_type": "stream",
     "text": [
      "100%|███████████████████████████████████████████████████████████████████████████████████████████████████████████| 200/200 [01:19<00:00,  2.52it/s]\n"
     ]
    },
    {
     "name": "stdout",
     "output_type": "stream",
     "text": [
      "CPU times: user 2.3 s, sys: 28.4 s, total: 30.7 s\n",
      "Wall time: 1min 22s\n"
     ]
    }
   ],
   "source": [
    "%%time\n",
    "max_len = model.config.max_position_embeddings\n",
    "instruction_len = len(tokenizer.tokenize(prompt[:prompt.index(\"{\")]))\n",
    "log_probs = _loglikelihood_tokens(encoded[:200], model, max_len, 'mps', instruction_len=instruction_len, \n",
    "                                  tokenizer=tokenizer, batch_size=32)"
   ]
  },
  {
   "cell_type": "code",
   "execution_count": null,
   "id": "a19038cc",
   "metadata": {},
   "outputs": [],
   "source": []
  }
 ],
 "metadata": {
  "kernelspec": {
   "display_name": "Python 3 (ipykernel)",
   "language": "python",
   "name": "python3"
  },
  "language_info": {
   "codemirror_mode": {
    "name": "ipython",
    "version": 3
   },
   "file_extension": ".py",
   "mimetype": "text/x-python",
   "name": "python",
   "nbconvert_exporter": "python",
   "pygments_lexer": "ipython3",
   "version": "3.9.7"
  },
  "toc": {
   "base_numbering": 1,
   "nav_menu": {},
   "number_sections": true,
   "sideBar": true,
   "skip_h1_title": false,
   "title_cell": "Table of Contents",
   "title_sidebar": "Contents",
   "toc_cell": false,
   "toc_position": {},
   "toc_section_display": true,
   "toc_window_display": false
  }
 },
 "nbformat": 4,
 "nbformat_minor": 5
}
